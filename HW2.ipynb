{
  "nbformat": 4,
  "nbformat_minor": 0,
  "metadata": {
    "colab": {
      "name": "Untitled1.ipynb",
      "provenance": [],
      "collapsed_sections": [],
      "authorship_tag": "ABX9TyNfsvlrkQqlZDPA8MYP2Aka",
      "include_colab_link": true
    },
    "kernelspec": {
      "name": "python3",
      "display_name": "Python 3"
    },
    "language_info": {
      "name": "python"
    }
  },
  "cells": [
    {
      "cell_type": "markdown",
      "metadata": {
        "id": "view-in-github",
        "colab_type": "text"
      },
      "source": [
        "<a href=\"https://colab.research.google.com/github/himalayahall/cuny-bridge-math/blob/main/HW2.ipynb\" target=\"_parent\"><img src=\"https://colab.research.google.com/assets/colab-badge.svg\" alt=\"Open In Colab\"/></a>"
      ]
    },
    {
      "cell_type": "code",
      "execution_count": null,
      "metadata": {
        "id": "WI-zaOeEXtQa"
      },
      "outputs": [],
      "source": [
        "import numpy as np"
      ]
    },
    {
      "cell_type": "code",
      "source": [
        "A = np.matrix('1, 2; 3, 4')\n",
        "print(A)\n",
        "B = np.matrix('1, 2; 3, 4')\n",
        "print(B)\n",
        "C = np.matrix('1, 2, 3; 1, 2, 3')\n",
        "print(C)\n",
        "C"
      ],
      "metadata": {
        "colab": {
          "base_uri": "https://localhost:8080/"
        },
        "id": "BQ5ozoTkXyMf",
        "outputId": "50017718-38be-4fc2-cbae-a282c7a158ea"
      },
      "execution_count": null,
      "outputs": [
        {
          "output_type": "stream",
          "name": "stdout",
          "text": [
            "[[1 2]\n",
            " [3 4]]\n",
            "[[1 2]\n",
            " [3 4]]\n",
            "[[1 2 3]\n",
            " [1 2 3]]\n"
          ]
        },
        {
          "output_type": "execute_result",
          "data": {
            "text/plain": [
              "matrix([[1, 2, 3],\n",
              "        [1, 2, 3]])"
            ]
          },
          "metadata": {},
          "execution_count": 71
        }
      ]
    },
    {
      "cell_type": "code",
      "source": [
        ""
      ],
      "metadata": {
        "id": "se9f89YBbQE4"
      },
      "execution_count": null,
      "outputs": []
    },
    {
      "cell_type": "code",
      "source": [
        "np.add(A, B)"
      ],
      "metadata": {
        "colab": {
          "base_uri": "https://localhost:8080/"
        },
        "id": "BuuYcD25YO8c",
        "outputId": "98530d19-34d8-46ff-a2b2-bf6768ccf9f5"
      },
      "execution_count": null,
      "outputs": [
        {
          "output_type": "execute_result",
          "data": {
            "text/plain": [
              "matrix([[2, 4],\n",
              "        [6, 8]])"
            ]
          },
          "metadata": {},
          "execution_count": 28
        }
      ]
    },
    {
      "cell_type": "code",
      "source": [
        "np.subtract(A, B)"
      ],
      "metadata": {
        "colab": {
          "base_uri": "https://localhost:8080/"
        },
        "id": "FgPUYgJRYSE1",
        "outputId": "7949a358-2fe0-4f1b-d8d3-0b4f0dbf88d1"
      },
      "execution_count": null,
      "outputs": [
        {
          "output_type": "execute_result",
          "data": {
            "text/plain": [
              "matrix([[0, 0],\n",
              "        [0, 0]])"
            ]
          },
          "metadata": {},
          "execution_count": 29
        }
      ]
    },
    {
      "cell_type": "code",
      "source": [
        "np.add(A, B) == np.add(B, A)"
      ],
      "metadata": {
        "colab": {
          "base_uri": "https://localhost:8080/"
        },
        "id": "gB6eaFSQYuG7",
        "outputId": "ea053936-e2ad-4559-908e-9239c321c208"
      },
      "execution_count": null,
      "outputs": [
        {
          "output_type": "execute_result",
          "data": {
            "text/plain": [
              "matrix([[ True,  True],\n",
              "        [ True,  True]])"
            ]
          },
          "metadata": {},
          "execution_count": 30
        }
      ]
    },
    {
      "cell_type": "code",
      "source": [
        "np.add(A, 0)"
      ],
      "metadata": {
        "colab": {
          "base_uri": "https://localhost:8080/"
        },
        "id": "KH9_KJOFaG8A",
        "outputId": "1cf6a59a-b8f9-45c7-88c3-8597c1c4091e"
      },
      "execution_count": null,
      "outputs": [
        {
          "output_type": "execute_result",
          "data": {
            "text/plain": [
              "matrix([[1, 2],\n",
              "        [3, 4]])"
            ]
          },
          "metadata": {},
          "execution_count": 31
        }
      ]
    },
    {
      "cell_type": "code",
      "source": [
        "A+0"
      ],
      "metadata": {
        "colab": {
          "base_uri": "https://localhost:8080/"
        },
        "id": "Mecx_StLaKoo",
        "outputId": "087d801e-5832-4f55-a428-a5711ec774e1"
      },
      "execution_count": null,
      "outputs": [
        {
          "output_type": "execute_result",
          "data": {
            "text/plain": [
              "matrix([[1, 2],\n",
              "        [3, 4]])"
            ]
          },
          "metadata": {},
          "execution_count": 32
        }
      ]
    },
    {
      "cell_type": "code",
      "source": [
        "A@B"
      ],
      "metadata": {
        "colab": {
          "base_uri": "https://localhost:8080/"
        },
        "id": "Yfvrg3B8aQmT",
        "outputId": "8f165559-664a-49cc-8b9d-bd09aca28109"
      },
      "execution_count": null,
      "outputs": [
        {
          "output_type": "execute_result",
          "data": {
            "text/plain": [
              "matrix([[ 7, 10],\n",
              "        [15, 22]])"
            ]
          },
          "metadata": {},
          "execution_count": 33
        }
      ]
    },
    {
      "cell_type": "code",
      "source": [
        "A@C"
      ],
      "metadata": {
        "colab": {
          "base_uri": "https://localhost:8080/"
        },
        "id": "jkSb4AIgbRHs",
        "outputId": "693013d2-256d-49fc-d23a-5f42e72e0b58"
      },
      "execution_count": null,
      "outputs": [
        {
          "output_type": "execute_result",
          "data": {
            "text/plain": [
              "matrix([[ 3,  6,  9],\n",
              "        [ 7, 14, 21]])"
            ]
          },
          "metadata": {},
          "execution_count": 35
        }
      ]
    },
    {
      "cell_type": "code",
      "source": [
        "A_inv = np.linalg.pinv(A)\n",
        "A_inv"
      ],
      "metadata": {
        "colab": {
          "base_uri": "https://localhost:8080/"
        },
        "id": "QJVvk0K7bTZR",
        "outputId": "a26481ce-611a-47e1-fdcb-c61c49510942"
      },
      "execution_count": null,
      "outputs": [
        {
          "output_type": "execute_result",
          "data": {
            "text/plain": [
              "matrix([[-2. ,  1. ],\n",
              "        [ 1.5, -0.5]])"
            ]
          },
          "metadata": {},
          "execution_count": 44
        }
      ]
    },
    {
      "cell_type": "code",
      "source": [
        "A@A_inv"
      ],
      "metadata": {
        "colab": {
          "base_uri": "https://localhost:8080/"
        },
        "id": "qkedFhALdSb9",
        "outputId": "38794449-07f9-46c4-b3dc-343b183ff87b"
      },
      "execution_count": null,
      "outputs": [
        {
          "output_type": "execute_result",
          "data": {
            "text/plain": [
              "matrix([[ 1.00000000e+00, -6.66133815e-16],\n",
              "        [ 1.77635684e-15,  1.00000000e+00]])"
            ]
          },
          "metadata": {},
          "execution_count": 45
        }
      ]
    },
    {
      "cell_type": "code",
      "source": [
        "a = np.array([[5,2], [-3, 0]])\n",
        "b = np.array([2, 2])\n",
        "x = np.linalg.solve(a, b)\n",
        "x"
      ],
      "metadata": {
        "colab": {
          "base_uri": "https://localhost:8080/"
        },
        "id": "j8Z4jI4IjMqs",
        "outputId": "fdb586f6-5ca8-41a9-dc88-a9a6a62b1efa"
      },
      "execution_count": null,
      "outputs": [
        {
          "output_type": "execute_result",
          "data": {
            "text/plain": [
              "array([-0.66666667,  2.66666667])"
            ]
          },
          "metadata": {},
          "execution_count": 48
        }
      ]
    },
    {
      "cell_type": "code",
      "source": [
        "A = np.matrix('1, 1; 4, 1')\n",
        "print(A)"
      ],
      "metadata": {
        "colab": {
          "base_uri": "https://localhost:8080/"
        },
        "id": "o4qWzuBbmK5l",
        "outputId": "517d66d3-defb-40ae-a210-92e4cf2158d6"
      },
      "execution_count": null,
      "outputs": [
        {
          "output_type": "stream",
          "name": "stdout",
          "text": [
            "[[1 4]\n",
            " [4 1]]\n"
          ]
        }
      ]
    },
    {
      "cell_type": "code",
      "source": [
        "Ident = np.identity(2)\n",
        "Ident"
      ],
      "metadata": {
        "colab": {
          "base_uri": "https://localhost:8080/"
        },
        "id": "OPbjdZsumkVd",
        "outputId": "01ef0321-54e3-4d94-bfe2-5622060ea1a7"
      },
      "execution_count": null,
      "outputs": [
        {
          "output_type": "execute_result",
          "data": {
            "text/plain": [
              "array([[1., 0.],\n",
              "       [0., 1.]])"
            ]
          },
          "metadata": {},
          "execution_count": 56
        }
      ]
    },
    {
      "cell_type": "code",
      "source": [
        "from sympy import Symbol, solve\n",
        "l = Symbol('l')\n",
        "p = (1 - l)*(1 - l) - (4 * 1)\n",
        "solve(p)"
      ],
      "metadata": {
        "colab": {
          "base_uri": "https://localhost:8080/"
        },
        "id": "vNMEq2RCmueV",
        "outputId": "097d9dab-89b5-4801-9cb4-5841a82a463f"
      },
      "execution_count": null,
      "outputs": [
        {
          "output_type": "execute_result",
          "data": {
            "text/plain": [
              "[-1, 3]"
            ]
          },
          "metadata": {},
          "execution_count": 60
        }
      ]
    },
    {
      "cell_type": "code",
      "source": [
        "B = np.array([[1, 2],[3,4]])\n",
        "B\n",
        "C = np.array([[1, 2, 3],[4, 5, 6], [7, 8, 9]])\n",
        "C"
      ],
      "metadata": {
        "colab": {
          "base_uri": "https://localhost:8080/"
        },
        "id": "616KT1dYxvBv",
        "outputId": "d5d68a16-f129-4513-ed34-6e22904bba5d"
      },
      "execution_count": null,
      "outputs": [
        {
          "output_type": "execute_result",
          "data": {
            "text/plain": [
              "array([[1, 2, 3],\n",
              "       [4, 5, 6],\n",
              "       [7, 8, 9]])"
            ]
          },
          "metadata": {},
          "execution_count": 162
        }
      ]
    },
    {
      "cell_type": "code",
      "source": [
        "import numpy as np\n",
        "\n",
        "def getMatrixMinor(m, col):\n",
        "    return [row[:col] + row[col+1:] for row in (m[1:])]\n",
        "\n",
        "def getMatrixDeternminant(m):\n",
        "  '''\n",
        "    Compute determinant.\n",
        "    Params:\n",
        "    m : square matrix\n",
        "    Output:\n",
        "    Determinant\n",
        "  '''\n",
        "  # 1X1 matrix\n",
        "  if (len(m) == 1):\n",
        "    return A[0]\n",
        "\n",
        "  # 2x2 matrix\n",
        "  if len(m) == 2:\n",
        "      return m[0][0]*m[1][1]-m[0][1]*m[1][0]\n",
        "\n",
        "  determinant = 0.0\n",
        "  for col in range(len(m)):\n",
        "\n",
        "      # focus value - column of first row\n",
        "      fc = m[0][col]\n",
        "\n",
        "      # multiplication sign\n",
        "      sign = (-1)**col\n",
        "\n",
        "      # get minor matrix for column\n",
        "      mm = getMatrixMinor(m, col)\n",
        "\n",
        "      # compute minor matrix determinant\n",
        "      mm_det = getMatrixDeternminant(mm)\n",
        "\n",
        "      determinant += sign * fc * mm_det\n",
        "  \n",
        "  return determinant\n",
        "\n",
        "\n",
        "A = [[-2, 2,-3],[-1,1,3],[2,0,-1]] \n",
        "B = [[4, -3, 5],[1, 0, 3],[-1, 5, 2]]\n",
        "C = [[1, 2],[3,4]]\n",
        "\n",
        "print('Matrix: {0} np.linalg.det: {1}, My det: {2}'.format(A, np.linalg.det(A), getMatrixDeternminant(A)))\n",
        "print('Matrix: {0}, np.linalg.det: {1}, My det: {2}'.format(B, np.linalg.det(B), getMatrixDeternminant(B)))\n",
        "print('Matrix: {0}, np.linalg.det: {1}, My det: {2}'.format(C, np.linalg.det(C), getMatrixDeternminant(C)))\n"
      ],
      "metadata": {
        "colab": {
          "base_uri": "https://localhost:8080/"
        },
        "id": "8WHRufp-x3FO",
        "outputId": "5df734d5-9b7c-4d6a-902d-f69c9291b809"
      },
      "execution_count": null,
      "outputs": [
        {
          "output_type": "stream",
          "name": "stdout",
          "text": [
            "Matrix: [[-2, 2, -3], [-1, 1, 3], [2, 0, -1]] np.linalg.det: 17.999999999999996, My det: 18.0\n",
            "Matrix: [[4, -3, 5], [1, 0, 3], [-1, 5, 2]], np.linalg.det: -20.000000000000007, My det: -20.0\n",
            "Matrix: [[1, 2], [3, 4]], np.linalg.det: -2.0000000000000004, My det: -2\n"
          ]
        }
      ]
    },
    {
      "cell_type": "code",
      "source": [
        "# Ax = Lx\n",
        "# Ax - Lx = 0\n",
        "# Ax - LIx = 0\n",
        "# (A - LI)x = 0\n",
        "# x cannot be the 0 vector\n",
        "# Assume (A - LI) is invertible, multiply both sides by the inverse\n",
        "# (A - LI)'(A - LI)x = (A - LI)'0\n",
        "# x = (A - LI)'0 = 0\n",
        "# but that is not allowed, so (A - LI) cannot be invertible. That implies the determinant of (A - LI) must be 0\n",
        "# |A - LI| = 0, is called the characteristic equation, solutions to this equation are the Eigenvalues\n",
        "#\n",
        "# Example:\n",
        "# A = [[1, 1], [4, 1]], I = [[1, 0], [0, 1]]\n",
        "#\n",
        "# A - LI = [1, 1], [4, 1]] - L [[1, 0], [0, 1]] = [[1, 1], [4, 1]] - [L, 0], [0, L)] = [[1 - L, 1], [4, 1 - L]]\n",
        "#\n",
        "# Determinant of this must be 0\n",
        "# (1 - L)(1 - L) - 1 * 4 = (1 - L)(1 - L) - 4 = 1 - L - L + L**2 - 4 = L**2 - 2L -3 = 0\n",
        "#\n",
        "# Factoring: (L - 3)(L + 1) = 0, which has two solutions: L = 3, L = -1. These are. the eigenvalues\n",
        "#\n",
        "from sympy import Symbol, pprint, solve\n",
        "\n",
        "L = Symbol('lambda')\n",
        "\n",
        "exp0 = L**2 - 2 * L - 3\n",
        "pprint(exp0)\n",
        "print(solve(exp0))\n",
        "\n",
        "exp1 = (1 - L)*(1 - L) - 1 * 4\n",
        "pprint(exp1)\n",
        "print(solve(exp1))\n"
      ],
      "metadata": {
        "colab": {
          "base_uri": "https://localhost:8080/"
        },
        "id": "bqOD79QG-hg4",
        "outputId": "a35b6b8b-8002-422d-ff97-8861ca1a7c3d"
      },
      "execution_count": null,
      "outputs": [
        {
          "output_type": "stream",
          "name": "stdout",
          "text": [
            " 2          \n",
            "λ  - 2⋅λ - 3\n",
            "[-1, 3]\n",
            "       2    \n",
            "(1 - λ)  - 4\n",
            "[-1, 3]\n"
          ]
        }
      ]
    },
    {
      "cell_type": "code",
      "source": [
        "from sympy import Symbol, pprint, solve\n",
        "import numpy as np\n",
        "\n",
        "def get_eigenvalues_for_2By2(M):\n",
        "  '''\n",
        "    Get engenvalues for any 2x2 matrix\n",
        "  '''\n",
        "  if (len(M[0]) == len(M[1]) and len(M[0]) == 2):\n",
        "    L = Symbol('lambda')\n",
        "    exp = (M[0][0] - L) * (M[1][1] - L) - (M[0][1] * M[1][0])\n",
        "    #print(exp)\n",
        "    return solve(exp)\n",
        "\n",
        "def get_eigenvalues_for_3By3(M):\n",
        "  '''\n",
        "    Get engenvalues for any 3x3 matrix\n",
        "  '''\n",
        "  if (len(M[0]) == len(M[1]) and len(M[0]) == 3):\n",
        "    L = Symbol('lambda')\n",
        "    a00 = (M[0][0] - L)\n",
        "    a01 = M[0][1]\n",
        "    a02 = M[0][2]\n",
        "\n",
        "    a10 = M[1][0]\n",
        "    a11 = (M[1][1] - L)\n",
        "    a12 = M[1][2]\n",
        "\n",
        "    a20 = M[2][0]\n",
        "    a21 = M[2][1]\n",
        "    a22 = (M[2][2] - L)\n",
        "\n",
        "    exp1 = a00 * (a11 * a22 - a12 * a21)\n",
        "    exp2 = a01 * (a10 * a22 - a12 * a20)\n",
        "    exp3 = a02 * (a10 * a21 - a11 * a20)\n",
        "\n",
        "    return solve(exp1 - exp2 + exp3)\n",
        "\n",
        "C = [[1, 1],[4, 1]]\n",
        "solC = get_eigenvalues_for_2By2(C)\n",
        "print('My Eigenvalue: {0}, np.linalg.eigvals: {1}'.format(solC, np.linalg.eigvals(C)))\n",
        "\n",
        "D = [[-2, -4, 2], [-2, 1, 2], [4, 2, 5]]\n",
        "solD = get_eigenvalues_for_3By3(D)\n",
        "print('My Eigenvalue: {0}, np.linalg.eigvals: {1}'.format(solD, np.linalg.eigvals(D)))"
      ],
      "metadata": {
        "colab": {
          "base_uri": "https://localhost:8080/"
        },
        "id": "XLrVzuCW1_oR",
        "outputId": "6be8f47f-b898-4aec-9691-e0719dc24bee"
      },
      "execution_count": 3,
      "outputs": [
        {
          "output_type": "stream",
          "name": "stdout",
          "text": [
            "My Eigenvalue: [-1, 3], np.linalg.eigvals: [ 3. -1.]\n",
            "My Eigenvalue: [-5, 3, 6], np.linalg.eigvals: [-5.  3.  6.]\n"
          ]
        }
      ]
    },
    {
      "cell_type": "code",
      "source": [
        "from sympy import Symbol, pprint, solve, Matrix, eye, diag\n",
        "\n",
        "def get_eigenvalues(in_arr):\n",
        "  '''\n",
        "    Solve for Eigenvalues of any NxM matrix.\n",
        "  '''\n",
        "\n",
        "  # create matrix, A\n",
        "  A = Matrix(in_arr)\n",
        "\n",
        "  # create same size identity matrix, I\n",
        "  I = eye(len(in_arr[0]))\n",
        "\n",
        "  # put lambda on diagonal of identity matrix, LI\n",
        "  L = Symbol('lambda') \n",
        "  LI = L * I\n",
        "  #print(LI)\n",
        "\n",
        "  # A - LI\n",
        "  A_LI = A - LI\n",
        "\n",
        "  # compute |A - LI|\n",
        "  det_A_LI = A_LI.det()\n",
        "  #print(det_A_LI)\n",
        "\n",
        "  # solve for |A - LI| = 0\n",
        "  soln = solve(det_A_LI)\n",
        "  #print(soln)\n",
        "\n",
        "  return soln\n",
        "\n",
        "A = [[1, 1],[4, 1]]\n",
        "solA = get_eigenvalues(A)\n",
        "print('Matrix: {0}, My Eigenvalue: {1}, np.linalg.eigvals: {2}'.format(A, solA, np.linalg.eigvals(A)))\n",
        "\n",
        "B = [[-2, -4, 2], [-2, 1, 2], [4, 2, 5]]\n",
        "solB = get_eigenvalues(B)\n",
        "print('Matrix: {0}, My Eigenvalue: {1}, np.linalg.eigvals: {2}'.format(B, solB, np.linalg.eigvals(B)))\n",
        "\n",
        "C = [[-2, 0, 0, 0], [0, 4, 0, 0], [0, 0, 3, 0], [0, 0, 3, 4]]\n",
        "solC = get_eigenvalues(C)\n",
        "print('Matrix: {0}, My Eigenvalue: {1}, np.linalg.eigvals: {2}'.format(C, solC, np.linalg.eigvals(C)))\n"
      ],
      "metadata": {
        "colab": {
          "base_uri": "https://localhost:8080/"
        },
        "id": "X8VJsTVLgTOe",
        "outputId": "5a14f7e1-579e-43d7-e64e-7462c37787da"
      },
      "execution_count": 53,
      "outputs": [
        {
          "output_type": "stream",
          "name": "stdout",
          "text": [
            "Matrix: [[1, 1], [4, 1]], My Eigenvalue: [-1, 3], np.linalg.eigvals: [ 3. -1.]\n",
            "Matrix: [[-2, -4, 2], [-2, 1, 2], [4, 2, 5]], My Eigenvalue: [-5, 3, 6], np.linalg.eigvals: [-5.  3.  6.]\n",
            "Matrix: [[-2, 0, 0, 0], [0, 4, 0, 0], [0, 0, 3, 0], [0, 0, 3, 4]], My Eigenvalue: [-2, 3, 4], np.linalg.eigvals: [-2.  4.  4.  3.]\n"
          ]
        }
      ]
    },
    {
      "cell_type": "code",
      "source": [
        "import numpy as np\n",
        "\n",
        "def get_eigvec(M):\n",
        "  '''\n",
        "    Shortcut - using numpy eig to calculate eigenvectors\n",
        "  '''\n",
        "  return np.linalg.eig(M)[1]\n",
        " \n",
        "def get_eigval(M):\n",
        "  '''\n",
        "    Shortcut - using numpy eig to cacculate eigenvectors\n",
        "  '''\n",
        "  return np.linalg.eig(M)[0]\n",
        "\n",
        "C = [[1, 1],[4, 1]]\n",
        "print('Eigval: {0}, Eigvec: {1}'.format(get_eigval(C), get_eigvec(C)))"
      ],
      "metadata": {
        "colab": {
          "base_uri": "https://localhost:8080/"
        },
        "id": "SvIW28YUi7k5",
        "outputId": "87fe9cad-a810-4f5d-f83f-d471bab1d062"
      },
      "execution_count": null,
      "outputs": [
        {
          "output_type": "stream",
          "name": "stdout",
          "text": [
            "Eigval: [ 3. -1.], Eigvec: [[ 0.4472136  -0.4472136 ]\n",
            " [ 0.89442719  0.89442719]]\n"
          ]
        }
      ]
    },
    {
      "cell_type": "code",
      "source": [
        "from numpy import array\n",
        "from numpy import diag\n",
        "from numpy import dot\n",
        "from numpy import zeros\n",
        "from scipy.linalg import svd\n",
        "\n",
        "A = array([[1,2], [3,4],\n",
        "                [5,6]],\n",
        "               dtype=np.float32)\n",
        "  \n",
        "print('Original array =', A)\n",
        "  \n",
        "# Compute the factor by Singular Value \n",
        "# Decomposition\n",
        "U, s, VT = svd(A, full_matrices=False)\n",
        "\n",
        "# Print the result\n",
        "print(\"\\nFactor of the given array by Singular Value Decomposition:\")\n",
        "print(\"\\nU=\", U, \"\\n\\ns=\", s, \"\\n\\nVT=\", VT)\n"
      ],
      "metadata": {
        "colab": {
          "base_uri": "https://localhost:8080/"
        },
        "id": "rDm7XSpwkURO",
        "outputId": "aeeb3f85-2115-4380-e969-37b00b92e2b9"
      },
      "execution_count": null,
      "outputs": [
        {
          "output_type": "stream",
          "name": "stdout",
          "text": [
            "Original array = [[1. 2.]\n",
            " [3. 4.]\n",
            " [5. 6.]]\n",
            "\n",
            "Factor of the given array by Singular Value Decomposition:\n",
            "\n",
            "U= [[-0.22984788  0.8834613 ]\n",
            " [-0.5247448   0.24078177]\n",
            " [-0.819642   -0.40189567]] \n",
            "\n",
            "s= [9.525519   0.51430136] \n",
            "\n",
            "VT= [[-0.6196294 -0.7848945]\n",
            " [-0.7848945  0.6196294]]\n"
          ]
        }
      ]
    }
  ]
}