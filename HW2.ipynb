{
  "nbformat": 4,
  "nbformat_minor": 0,
  "metadata": {
    "colab": {
      "name": "Untitled1.ipynb",
      "provenance": [],
      "collapsed_sections": [],
      "authorship_tag": "ABX9TyOtYHkWWlo/+0ubJt5uvP5Z",
      "include_colab_link": true
    },
    "kernelspec": {
      "name": "python3",
      "display_name": "Python 3"
    },
    "language_info": {
      "name": "python"
    }
  },
  "cells": [
    {
      "cell_type": "markdown",
      "metadata": {
        "id": "view-in-github",
        "colab_type": "text"
      },
      "source": [
        "<a href=\"https://colab.research.google.com/github/himalayahall/cuny-bridge-math/blob/main/HW2.ipynb\" target=\"_parent\"><img src=\"https://colab.research.google.com/assets/colab-badge.svg\" alt=\"Open In Colab\"/></a>"
      ]
    },
    {
      "cell_type": "code",
      "execution_count": 1,
      "metadata": {
        "id": "WI-zaOeEXtQa"
      },
      "outputs": [],
      "source": [
        "import numpy as np"
      ]
    },
    {
      "cell_type": "code",
      "source": [
        "A = np.matrix('1, 2; 3, 4')\n",
        "print(A)\n",
        "B = np.matrix('1, 2; 3, 4')\n",
        "print(B)\n",
        "C = np.matrix('1, 2, 3; 1, 2, 3')\n",
        "print(C)\n",
        "C"
      ],
      "metadata": {
        "colab": {
          "base_uri": "https://localhost:8080/"
        },
        "id": "BQ5ozoTkXyMf",
        "outputId": "c6c3eca4-6c30-43a8-82f5-188df002904f"
      },
      "execution_count": 2,
      "outputs": [
        {
          "output_type": "stream",
          "name": "stdout",
          "text": [
            "[[1 2]\n",
            " [3 4]]\n",
            "[[1 2]\n",
            " [3 4]]\n",
            "[[1 2 3]\n",
            " [1 2 3]]\n"
          ]
        },
        {
          "output_type": "execute_result",
          "data": {
            "text/plain": [
              "matrix([[1, 2, 3],\n",
              "        [1, 2, 3]])"
            ]
          },
          "metadata": {},
          "execution_count": 2
        }
      ]
    },
    {
      "cell_type": "code",
      "source": [
        ""
      ],
      "metadata": {
        "id": "se9f89YBbQE4"
      },
      "execution_count": 2,
      "outputs": []
    },
    {
      "cell_type": "code",
      "source": [
        "np.add(A, B)"
      ],
      "metadata": {
        "colab": {
          "base_uri": "https://localhost:8080/"
        },
        "id": "BuuYcD25YO8c",
        "outputId": "a0ae42a5-5cf5-4b2b-f486-6f1867711e15"
      },
      "execution_count": 3,
      "outputs": [
        {
          "output_type": "execute_result",
          "data": {
            "text/plain": [
              "matrix([[2, 4],\n",
              "        [6, 8]])"
            ]
          },
          "metadata": {},
          "execution_count": 3
        }
      ]
    },
    {
      "cell_type": "code",
      "source": [
        "np.subtract(A, B)"
      ],
      "metadata": {
        "colab": {
          "base_uri": "https://localhost:8080/"
        },
        "id": "FgPUYgJRYSE1",
        "outputId": "d0786213-9113-47cb-d204-ce27d4b10b01"
      },
      "execution_count": 4,
      "outputs": [
        {
          "output_type": "execute_result",
          "data": {
            "text/plain": [
              "matrix([[0, 0],\n",
              "        [0, 0]])"
            ]
          },
          "metadata": {},
          "execution_count": 4
        }
      ]
    },
    {
      "cell_type": "code",
      "source": [
        "np.add(A, B) == np.add(B, A)"
      ],
      "metadata": {
        "colab": {
          "base_uri": "https://localhost:8080/"
        },
        "id": "gB6eaFSQYuG7",
        "outputId": "69c4afe7-0eb2-4120-88c3-0e2a4bcc362f"
      },
      "execution_count": 5,
      "outputs": [
        {
          "output_type": "execute_result",
          "data": {
            "text/plain": [
              "matrix([[ True,  True],\n",
              "        [ True,  True]])"
            ]
          },
          "metadata": {},
          "execution_count": 5
        }
      ]
    },
    {
      "cell_type": "code",
      "source": [
        "np.add(A, 0)"
      ],
      "metadata": {
        "colab": {
          "base_uri": "https://localhost:8080/"
        },
        "id": "KH9_KJOFaG8A",
        "outputId": "38aaa78c-4710-4802-9259-bf516a8190fb"
      },
      "execution_count": 6,
      "outputs": [
        {
          "output_type": "execute_result",
          "data": {
            "text/plain": [
              "matrix([[1, 2],\n",
              "        [3, 4]])"
            ]
          },
          "metadata": {},
          "execution_count": 6
        }
      ]
    },
    {
      "cell_type": "code",
      "source": [
        "A+0"
      ],
      "metadata": {
        "colab": {
          "base_uri": "https://localhost:8080/"
        },
        "id": "Mecx_StLaKoo",
        "outputId": "ff4f93f6-571d-4628-b792-73fb72989c6d"
      },
      "execution_count": 7,
      "outputs": [
        {
          "output_type": "execute_result",
          "data": {
            "text/plain": [
              "matrix([[1, 2],\n",
              "        [3, 4]])"
            ]
          },
          "metadata": {},
          "execution_count": 7
        }
      ]
    },
    {
      "cell_type": "code",
      "source": [
        "A@B"
      ],
      "metadata": {
        "colab": {
          "base_uri": "https://localhost:8080/"
        },
        "id": "Yfvrg3B8aQmT",
        "outputId": "ac79ee9e-83d1-406c-e915-4a0648f934e7"
      },
      "execution_count": 8,
      "outputs": [
        {
          "output_type": "execute_result",
          "data": {
            "text/plain": [
              "matrix([[ 7, 10],\n",
              "        [15, 22]])"
            ]
          },
          "metadata": {},
          "execution_count": 8
        }
      ]
    },
    {
      "cell_type": "code",
      "source": [
        "A@C"
      ],
      "metadata": {
        "colab": {
          "base_uri": "https://localhost:8080/"
        },
        "id": "jkSb4AIgbRHs",
        "outputId": "0199e81e-4983-44e8-9ab8-609faeb9564b"
      },
      "execution_count": 9,
      "outputs": [
        {
          "output_type": "execute_result",
          "data": {
            "text/plain": [
              "matrix([[ 3,  6,  9],\n",
              "        [ 7, 14, 21]])"
            ]
          },
          "metadata": {},
          "execution_count": 9
        }
      ]
    },
    {
      "cell_type": "code",
      "source": [
        "A_inv = np.linalg.pinv(A)\n",
        "A_inv"
      ],
      "metadata": {
        "colab": {
          "base_uri": "https://localhost:8080/"
        },
        "id": "QJVvk0K7bTZR",
        "outputId": "9760b83c-9229-4d07-fd73-a97aa9c08c0b"
      },
      "execution_count": 10,
      "outputs": [
        {
          "output_type": "execute_result",
          "data": {
            "text/plain": [
              "matrix([[-2. ,  1. ],\n",
              "        [ 1.5, -0.5]])"
            ]
          },
          "metadata": {},
          "execution_count": 10
        }
      ]
    },
    {
      "cell_type": "code",
      "source": [
        "A@A_inv"
      ],
      "metadata": {
        "colab": {
          "base_uri": "https://localhost:8080/"
        },
        "id": "qkedFhALdSb9",
        "outputId": "1ade0625-6965-485f-b447-9b1df439cb88"
      },
      "execution_count": 11,
      "outputs": [
        {
          "output_type": "execute_result",
          "data": {
            "text/plain": [
              "matrix([[ 1.00000000e+00, -6.66133815e-16],\n",
              "        [ 1.77635684e-15,  1.00000000e+00]])"
            ]
          },
          "metadata": {},
          "execution_count": 11
        }
      ]
    },
    {
      "cell_type": "code",
      "source": [
        "a = np.array([[5,2], [-3, 0]])\n",
        "b = np.array([2, 2])\n",
        "x = np.linalg.solve(a, b)\n",
        "x"
      ],
      "metadata": {
        "colab": {
          "base_uri": "https://localhost:8080/"
        },
        "id": "j8Z4jI4IjMqs",
        "outputId": "85ed33d5-01d3-4c68-f573-3a9ede17d1dd"
      },
      "execution_count": 12,
      "outputs": [
        {
          "output_type": "execute_result",
          "data": {
            "text/plain": [
              "array([-0.66666667,  2.66666667])"
            ]
          },
          "metadata": {},
          "execution_count": 12
        }
      ]
    },
    {
      "cell_type": "code",
      "source": [
        "A = np.matrix('1, 1; 4, 1')\n",
        "print(A)"
      ],
      "metadata": {
        "colab": {
          "base_uri": "https://localhost:8080/"
        },
        "id": "o4qWzuBbmK5l",
        "outputId": "78fdaf32-699c-41e0-fa58-0e474cae377a"
      },
      "execution_count": 13,
      "outputs": [
        {
          "output_type": "stream",
          "name": "stdout",
          "text": [
            "[[1 1]\n",
            " [4 1]]\n"
          ]
        }
      ]
    },
    {
      "cell_type": "code",
      "source": [
        "Ident = np.identity(2)\n",
        "Ident"
      ],
      "metadata": {
        "colab": {
          "base_uri": "https://localhost:8080/"
        },
        "id": "OPbjdZsumkVd",
        "outputId": "ddbc6416-3757-43d5-8453-4500457f87c8"
      },
      "execution_count": 14,
      "outputs": [
        {
          "output_type": "execute_result",
          "data": {
            "text/plain": [
              "array([[1., 0.],\n",
              "       [0., 1.]])"
            ]
          },
          "metadata": {},
          "execution_count": 14
        }
      ]
    },
    {
      "cell_type": "code",
      "source": [
        "from sympy import Symbol, solve\n",
        "l = Symbol('l')\n",
        "p = (1 - l)*(1 - l) - (4 * 1)\n",
        "solve(p)"
      ],
      "metadata": {
        "colab": {
          "base_uri": "https://localhost:8080/"
        },
        "id": "vNMEq2RCmueV",
        "outputId": "3ca10fc7-b8d6-4f5f-ec49-27823d7c8d28"
      },
      "execution_count": 15,
      "outputs": [
        {
          "output_type": "execute_result",
          "data": {
            "text/plain": [
              "[-1, 3]"
            ]
          },
          "metadata": {},
          "execution_count": 15
        }
      ]
    },
    {
      "cell_type": "code",
      "source": [
        "B = np.array([[1, 2],[3,4]])\n",
        "B\n",
        "C = np.array([[1, 2, 3],[4, 5, 6], [7, 8, 9]])\n",
        "C"
      ],
      "metadata": {
        "colab": {
          "base_uri": "https://localhost:8080/"
        },
        "id": "616KT1dYxvBv",
        "outputId": "3decd7ef-ad44-40ee-a696-18344f974a12"
      },
      "execution_count": 16,
      "outputs": [
        {
          "output_type": "execute_result",
          "data": {
            "text/plain": [
              "array([[1, 2, 3],\n",
              "       [4, 5, 6],\n",
              "       [7, 8, 9]])"
            ]
          },
          "metadata": {},
          "execution_count": 16
        }
      ]
    },
    {
      "cell_type": "code",
      "source": [
        "# Ax = Lx\n",
        "# Ax - Lx = 0\n",
        "# Ax - LIx = 0\n",
        "# (A - LI)x = 0\n",
        "# x cannot be the 0 vector\n",
        "# Assume (A - LI) is invertible, multiply both sides by the inverse\n",
        "# (A - LI)'(A - LI)x = (A - LI)'0\n",
        "# x = (A - LI)'0 = 0\n",
        "# but that is not allowed, so (A - LI) cannot be invertible. That implies the determinant of (A - LI) must be 0\n",
        "# |A - LI| = 0, is called the characteristic equation, solutions to this equation are the Eigenvalues\n",
        "#\n",
        "# Example:\n",
        "# A = [[1, 1], [4, 1]], I = [[1, 0], [0, 1]]\n",
        "#\n",
        "# A - LI = [1, 1], [4, 1]] - L [[1, 0], [0, 1]] = [[1, 1], [4, 1]] - [L, 0], [0, L)] = [[1 - L, 1], [4, 1 - L]]\n",
        "#\n",
        "# Determinant of this must be 0\n",
        "# (1 - L)(1 - L) - 1 * 4 = (1 - L)(1 - L) - 4 = 1 - L - L + L**2 - 4 = L**2 - 2L -3 = 0\n",
        "#\n",
        "# Factoring: (L - 3)(L + 1) = 0, which has two solutions: L = 3, L = -1. These are. the eigenvalues\n",
        "#\n",
        "from sympy import Symbol, pprint, solve\n",
        "\n",
        "L = Symbol('lambda')\n",
        "\n",
        "exp0 = L**2 - 2 * L - 3\n",
        "pprint(exp0)\n",
        "print(solve(exp0))\n",
        "\n",
        "exp1 = (1 - L)*(1 - L) - 1 * 4\n",
        "pprint(exp1)\n",
        "print(solve(exp1))\n"
      ],
      "metadata": {
        "colab": {
          "base_uri": "https://localhost:8080/"
        },
        "id": "bqOD79QG-hg4",
        "outputId": "32a97d31-e38c-47e4-eb29-4e3cacb77b31"
      },
      "execution_count": 17,
      "outputs": [
        {
          "output_type": "stream",
          "name": "stdout",
          "text": [
            " 2          \n",
            "λ  - 2⋅λ - 3\n",
            "[-1, 3]\n",
            "       2    \n",
            "(1 - λ)  - 4\n",
            "[-1, 3]\n"
          ]
        }
      ]
    },
    {
      "cell_type": "code",
      "source": [
        "from sympy import Symbol, solve\n",
        "\n",
        "def get_eigenvalues_for_2By2(M):\n",
        "  '''\n",
        "    Get engenvalues for any 2x2 matrix\n",
        "  '''\n",
        "  if (len(M[0]) == len(M[1]) and len(M[0]) == 2):\n",
        "    L = Symbol('lambda')\n",
        "    exp = (M[0][0] - L) * (M[1][1] - L) - (M[0][1] * M[1][0])\n",
        "    return solve(exp)\n",
        "\n",
        "def get_eigenvalues_for_3By3(M):\n",
        "  '''\n",
        "    Get engenvalues for any 3x3 matrix\n",
        "  '''\n",
        "  if (len(M[0]) == len(M[1]) and len(M[0]) == 3):\n",
        "    L = Symbol('lambda')\n",
        "    a00 = (M[0][0] - L)\n",
        "    a01 = M[0][1]\n",
        "    a02 = M[0][2]\n",
        "\n",
        "    a10 = M[1][0]\n",
        "    a11 = (M[1][1] - L)\n",
        "    a12 = M[1][2]\n",
        "\n",
        "    a20 = M[2][0]\n",
        "    a21 = M[2][1]\n",
        "    a22 = (M[2][2] - L)\n",
        "\n",
        "    exp1 = a00 * (a11 * a22 - a12 * a21)\n",
        "    exp2 = a01 * (a10 * a22 - a12 * a20)\n",
        "    exp3 = a02 * (a10 * a21 - a11 * a20)\n",
        "\n",
        "    return solve(exp1 - exp2 + exp3)\n",
        "\n",
        "C = [[1, 1],[4, 1]]\n",
        "solC = get_eigenvalues_for_2By2(C)\n",
        "print('My Eigenvalue: {0}, np.linalg.eigvals: {1}'.format(solC, np.linalg.eigvals(C)))\n",
        "\n",
        "D = [[-2, -4, 2], [-2, 1, 2], [4, 2, 5]]\n",
        "solD = get_eigenvalues_for_3By3(D)\n",
        "print('My Eigenvalue: {0}, np.linalg.eigvals: {1}'.format(solD, np.linalg.eigvals(D)))"
      ],
      "metadata": {
        "colab": {
          "base_uri": "https://localhost:8080/"
        },
        "id": "XLrVzuCW1_oR",
        "outputId": "a57641bc-cea1-4a46-bb10-f7417b4033d9"
      },
      "execution_count": 18,
      "outputs": [
        {
          "output_type": "stream",
          "name": "stdout",
          "text": [
            "My Eigenvalue: [-1, 3], np.linalg.eigvals: [ 3. -1.]\n",
            "My Eigenvalue: [-5, 3, 6], np.linalg.eigvals: [-5.  3.  6.]\n"
          ]
        }
      ]
    },
    {
      "cell_type": "code",
      "source": [
        "from sympy import Symbol, solve, Matrix, eye\n",
        "\n",
        "def get_eigenvalues(in_arr):\n",
        "  '''\n",
        "    Solve for Eigenvalues of any NxM matrix.\n",
        "  '''\n",
        "\n",
        "  # create matrix, A\n",
        "  A = Matrix(in_arr)\n",
        "\n",
        "  # create same size identity matrix, I\n",
        "  I = eye(len(in_arr[0]))\n",
        "\n",
        "  # put lambda on diagonal of identity matrix, LI\n",
        "  L = Symbol('lambda') \n",
        "  LI = L * I\n",
        "  #print(LI)\n",
        "\n",
        "  # A - LI\n",
        "  A_LI = A - LI\n",
        "\n",
        "  # compute |A - LI|\n",
        "  det_A_LI = A_LI.det()\n",
        "  #print(det_A_LI)\n",
        "\n",
        "  # solve for |A - LI| = 0\n",
        "  soln = solve(det_A_LI)\n",
        "  #print(soln)\n",
        "\n",
        "  return soln\n",
        "\n",
        "A = [[1, 1],[4, 1]]\n",
        "solA = get_eigenvalues(A)\n",
        "print('Matrix: {0}, My Eigenvalue: {1}, np.linalg.eigvals: {2}'.format(A, solA, np.linalg.eigvals(A)))\n",
        "\n",
        "B = [[-2, -4, 2], [-2, 1, 2], [4, 2, 5]]\n",
        "solB = get_eigenvalues(B)\n",
        "print('Matrix: {0}, My Eigenvalue: {1}, np.linalg.eigvals: {2}'.format(B, solB, np.linalg.eigvals(B)))\n",
        "\n",
        "C = [[-2, 0, 0, 0], [0, 4, 0, 0], [0, 0, 3, 0], [0, 0, 3, 4]]\n",
        "solC = get_eigenvalues(C)\n",
        "print('Matrix: {0}, My Eigenvalue: {1}, np.linalg.eigvals: {2}'.format(C, solC, np.linalg.eigvals(C)))\n"
      ],
      "metadata": {
        "colab": {
          "base_uri": "https://localhost:8080/"
        },
        "id": "X8VJsTVLgTOe",
        "outputId": "840b82e7-a14b-487f-f93a-d125c517b539"
      },
      "execution_count": 19,
      "outputs": [
        {
          "output_type": "stream",
          "name": "stdout",
          "text": [
            "Matrix: [[1, 1], [4, 1]], My Eigenvalue: [-1, 3], np.linalg.eigvals: [ 3. -1.]\n",
            "Matrix: [[-2, -4, 2], [-2, 1, 2], [4, 2, 5]], My Eigenvalue: [-5, 3, 6], np.linalg.eigvals: [-5.  3.  6.]\n",
            "Matrix: [[-2, 0, 0, 0], [0, 4, 0, 0], [0, 0, 3, 0], [0, 0, 3, 4]], My Eigenvalue: [-2, 3, 4], np.linalg.eigvals: [-2.  4.  4.  3.]\n"
          ]
        }
      ]
    },
    {
      "cell_type": "code",
      "source": [
        "def get_eigenvectors(in_arr):\n",
        "  '''\n",
        "    Get Eigenvectors. \n",
        "    \n",
        "    Uses sympy to compute the reduced row echelon form and to solve the equation. The output is not ideal (would have explored a better format given additional time), \n",
        "    but it is correct nonetheless. \n",
        "    For example, given matrix [[-53, 30],[-100, 57]] the output is [{x1: 3*x2/5}, {x1: x2/2}]. One can deduce from the first eigenvector, {x1: 3*x2/5} that x2 is the free variable.\n",
        "    If we set x2 = 1 and solve then x1 = 3/5,  the corresponding eigenvector would be [3/5, 1]. Which is in fact correct!\n",
        "  '''\n",
        "\n",
        "  # create matrix, A\n",
        "  A = Matrix(in_arr)\n",
        "\n",
        "  # create same size identity matrix, I\n",
        "  dim = len(in_arr[0])\n",
        "  I = eye(dim) \n",
        "\n",
        "  # vector if veriables x1, x2, ...\n",
        "  svec = []\n",
        "  i = 0\n",
        "  for v in range(len(in_arr[0])):\n",
        "    var_symbol = Symbol('x' + str(i + 1))\n",
        "    svec.append(var_symbol)\n",
        "    i += 1\n",
        "\n",
        "  # augmentation column of 0's\n",
        "  v = [0 for i in range(len(in_arr[0]))]\n",
        "  aug_col = Matrix(v)\n",
        "\n",
        "  var_vec = Matrix(svec)\n",
        "\n",
        "  # get eigenvalues using home-grown funtion\n",
        "  eigvals = get_eigenvalues(in_arr)\n",
        "  soln = []\n",
        "  for ev in eigvals:\n",
        "\n",
        "    # Compute A - lambda * I, where lambda is the eigenvalue\n",
        "    # multiple identify matrix by eigenvalue\n",
        "    ev_I = ev * I\n",
        "    #print(ev_I)\n",
        "\n",
        "    # subtract ev_I from A\n",
        "    A_EI = A - ev_I\n",
        "    #print(A_EI)\n",
        "\n",
        "    # augment matrix\n",
        "    aug_A_EI = Matrix(A_EI).col_insert(dim + 1, aug_col)\n",
        "    #print(aug_A_EI)\n",
        "\n",
        "    # get reduced row echelon form\n",
        "    aug_A_EI_rref, p = aug_A_EI.rref();\n",
        "    #print(aug_A_EI_rref)\n",
        "\n",
        "    # remove augmentation column\n",
        "    aug_A_EI_rref.col_del(-1)\n",
        "\n",
        "    # multiple by variable vector\n",
        "    aug_A_EI_rref_x = aug_A_EI_rref * var_vec  \n",
        "    #print(aug_A_EI_rref_x)\n",
        "\n",
        "    s = solve(aug_A_EI_rref_x)\n",
        "    soln.append(s)\n",
        "\n",
        "  return soln\n",
        "\n",
        "A = [[-35, -111, 15], [11, 35, -5], [3, 9, -3]]\n",
        "print('Matrix: {0}, My Eigenvalues: {1}, My Eigenvectors: {2}, np.linalg.eigvals: {3}, np.linalg.eig: {4}'.format(A, get_eigenvalues(A), get_eigenvectors(A), np.linalg.eigvals(A), np.linalg.eig(A)))\n",
        "\n",
        "A = [[-53, 30], [-100, 57]]\n",
        "print('Matrix: {0}, My Eigenvalues: {1}, My Eigenvectors: {2}, np.linalg.eigvals: {3}, np.linalg.eig: {4}'.format(A, get_eigenvalues(A), get_eigenvectors(A), np.linalg.eigvals(A), np.linalg.eig(A)))\n",
        "\n",
        "A = np.diag((1, 2, 3))\n",
        "print('Matrix: {0}, My Eigenvalues: {1}, My Eigenvectors: {2}, np.linalg.eigvals: {3}, np.linalg.eig: {4}'.format(A, get_eigenvalues(A), get_eigenvectors(A), np.linalg.eigvals(A), np.linalg.eig(A)))\n"
      ],
      "metadata": {
        "colab": {
          "base_uri": "https://localhost:8080/"
        },
        "id": "Fx0JwFqLrblx",
        "outputId": "a89ae693-1e8c-4e16-d236-048a2c72a288"
      },
      "execution_count": 20,
      "outputs": [
        {
          "output_type": "stream",
          "name": "stdout",
          "text": [
            "Matrix: [[-35, -111, 15], [11, 35, -5], [3, 9, -3]], My Eigenvalues: [-3, -2, 2], My Eigenvectors: [{x1: -3*x3, x2: x3}, {x1: -2*x3/3, x2: x3/3}, {x1: -3*x2, x3: 0}], np.linalg.eigvals: [ 2. -3. -2.], np.linalg.eig: (array([ 2., -3., -2.]), array([[-9.48683298e-01, -9.04534034e-01,  5.34522484e-01],\n",
            "       [ 3.16227766e-01,  3.01511345e-01, -2.67261242e-01],\n",
            "       [-1.72689575e-16,  3.01511345e-01, -8.01783726e-01]]))\n",
            "Matrix: [[-53, 30], [-100, 57]], My Eigenvalues: [-3, 7], My Eigenvectors: [{x1: 3*x2/5}, {x1: x2/2}], np.linalg.eigvals: [-3.  7.], np.linalg.eig: (array([-3.,  7.]), array([[-0.51449576, -0.4472136 ],\n",
            "       [-0.85749293, -0.89442719]]))\n",
            "Matrix: [[1 0 0]\n",
            " [0 2 0]\n",
            " [0 0 3]], My Eigenvalues: [1, 2, 3], My Eigenvectors: [{x2: 0, x3: 0}, {x1: 0, x3: 0}, {x1: 0, x2: 0}], np.linalg.eigvals: [1. 2. 3.], np.linalg.eig: (array([1., 2., 3.]), array([[1., 0., 0.],\n",
            "       [0., 1., 0.],\n",
            "       [0., 0., 1.]]))\n"
          ]
        }
      ]
    },
    {
      "cell_type": "code",
      "source": [
        "import numpy as np\n",
        "\n",
        "def get_eigvec(M):\n",
        "  '''\n",
        "    Shortcut - using numpy eig to calculate eigenvectors\n",
        "  '''\n",
        "  return np.linalg.eig(M)[1]\n",
        " \n",
        "def get_eigval(M):\n",
        "  '''\n",
        "    Shortcut - using numpy eig to cacculate eigenvectors\n",
        "  '''\n",
        "  return np.linalg.eig(M)[0]\n",
        "\n",
        "C = [[1, 1],[4, 1]]\n",
        "print('Eigval: {0}, Eigvec: {1}'.format(get_eigval(C), get_eigvec(C)))"
      ],
      "metadata": {
        "colab": {
          "base_uri": "https://localhost:8080/"
        },
        "id": "SvIW28YUi7k5",
        "outputId": "32a4ffcc-c2a2-467a-eec4-f6fb556c799f"
      },
      "execution_count": 21,
      "outputs": [
        {
          "output_type": "stream",
          "name": "stdout",
          "text": [
            "Eigval: [ 3. -1.], Eigvec: [[ 0.4472136  -0.4472136 ]\n",
            " [ 0.89442719  0.89442719]]\n"
          ]
        }
      ]
    },
    {
      "cell_type": "code",
      "source": [
        "from numpy import array\n",
        "from scipy.linalg import svd\n",
        "\n",
        "A = array([[1,2], [3,4],\n",
        "                [5,6]],\n",
        "               dtype=np.float32)\n",
        "  \n",
        "print('Original array =', A)\n",
        "  \n",
        "# Compute the factor by Singular Value \n",
        "# Decomposition\n",
        "U, s, VT = svd(A, full_matrices=False)\n",
        "\n",
        "# Print the result\n",
        "print(\"\\nFactor of the given array by Singular Value Decomposition:\")\n",
        "print(\"\\nU=\", U, \"\\n\\ns=\", s, \"\\n\\nVT=\", VT)\n"
      ],
      "metadata": {
        "colab": {
          "base_uri": "https://localhost:8080/"
        },
        "id": "rDm7XSpwkURO",
        "outputId": "0a1505a4-6989-4d0b-99da-50c280c19daa"
      },
      "execution_count": 22,
      "outputs": [
        {
          "output_type": "stream",
          "name": "stdout",
          "text": [
            "Original array = [[1. 2.]\n",
            " [3. 4.]\n",
            " [5. 6.]]\n",
            "\n",
            "Factor of the given array by Singular Value Decomposition:\n",
            "\n",
            "U= [[-0.22984788  0.8834613 ]\n",
            " [-0.5247448   0.24078177]\n",
            " [-0.819642   -0.40189567]] \n",
            "\n",
            "s= [9.525519   0.51430136] \n",
            "\n",
            "VT= [[-0.6196294 -0.7848945]\n",
            " [-0.7848945  0.6196294]]\n"
          ]
        }
      ]
    },
    {
      "cell_type": "code",
      "source": [
        "import numpy as np\n",
        "\n",
        "def getMatrixMinor(m, col):\n",
        "    return [row[:col] + row[col+1:] for row in (m[1:])]\n",
        "\n",
        "def getMatrixDeternminant(m):\n",
        "  '''\n",
        "    Compute determinant of any NxN square matrix\n",
        "    Params:\n",
        "    m : Square matrix\n",
        "    Output:\n",
        "    Determinant\n",
        "  '''\n",
        "  # 1X1 matrix\n",
        "  if (len(m) == 1):\n",
        "    return A[0]\n",
        "\n",
        "  # 2x2 matrix\n",
        "  if len(m) == 2:\n",
        "      return m[0][0]*m[1][1]-m[0][1]*m[1][0]\n",
        "\n",
        "  determinant = 0.0\n",
        "  for col in range(len(m)):\n",
        "\n",
        "      # focus value - column of first row\n",
        "      fc = m[0][col]\n",
        "\n",
        "      # multiplication sign\n",
        "      sign = (-1)**col\n",
        "\n",
        "      # get minor matrix for column\n",
        "      mm = getMatrixMinor(m, col)\n",
        "\n",
        "      # compute minor matrix determinant\n",
        "      mm_det = getMatrixDeternminant(mm)\n",
        "\n",
        "      determinant += sign * fc * mm_det\n",
        "  \n",
        "  return determinant\n",
        "\n",
        "\n",
        "A = [[-2, 2,-3],[-1,1,3],[2,0,-1]] \n",
        "B = [[4, -3, 5],[1, 0, 3],[-1, 5, 2]]\n",
        "C = [[1, 2],[3,4]]\n",
        "\n",
        "print('Matrix: {0} np.linalg.det: {1}, My det: {2}'.format(A, np.linalg.det(A), getMatrixDeternminant(A)))\n",
        "print('Matrix: {0}, np.linalg.det: {1}, My det: {2}'.format(B, np.linalg.det(B), getMatrixDeternminant(B)))\n",
        "print('Matrix: {0}, np.linalg.det: {1}, My det: {2}'.format(C, np.linalg.det(C), getMatrixDeternminant(C)))\n"
      ],
      "metadata": {
        "colab": {
          "base_uri": "https://localhost:8080/"
        },
        "id": "-pRT8sPGLvtO",
        "outputId": "c5e0725c-7a0a-47ac-909b-adc8c8addd2e"
      },
      "execution_count": 23,
      "outputs": [
        {
          "output_type": "stream",
          "name": "stdout",
          "text": [
            "Matrix: [[-2, 2, -3], [-1, 1, 3], [2, 0, -1]] np.linalg.det: 17.999999999999996, My det: 18.0\n",
            "Matrix: [[4, -3, 5], [1, 0, 3], [-1, 5, 2]], np.linalg.det: -20.000000000000007, My det: -20.0\n",
            "Matrix: [[1, 2], [3, 4]], np.linalg.det: -2.0000000000000004, My det: -2\n"
          ]
        }
      ]
    }
  ]
}