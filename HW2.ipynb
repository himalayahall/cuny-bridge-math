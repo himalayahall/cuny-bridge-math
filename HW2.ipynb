{
  "nbformat": 4,
  "nbformat_minor": 0,
  "metadata": {
    "colab": {
      "name": "Untitled1.ipynb",
      "provenance": [],
      "collapsed_sections": [],
      "authorship_tag": "ABX9TyOT5cPB7E54QLdERUJCKfdh",
      "include_colab_link": true
    },
    "kernelspec": {
      "name": "python3",
      "display_name": "Python 3"
    },
    "language_info": {
      "name": "python"
    }
  },
  "cells": [
    {
      "cell_type": "markdown",
      "metadata": {
        "id": "view-in-github",
        "colab_type": "text"
      },
      "source": [
        "<a href=\"https://colab.research.google.com/github/himalayahall/cuny-bridge-math/blob/main/HW2.ipynb\" target=\"_parent\"><img src=\"https://colab.research.google.com/assets/colab-badge.svg\" alt=\"Open In Colab\"/></a>"
      ]
    },
    {
      "cell_type": "code",
      "execution_count": 26,
      "metadata": {
        "id": "WI-zaOeEXtQa"
      },
      "outputs": [],
      "source": [
        "import numpy as np"
      ]
    },
    {
      "cell_type": "code",
      "source": [
        "A = np.matrix('1, 2; 3, 4')\n",
        "print(A)\n",
        "B = np.matrix('1, 2; 3, 4')\n",
        "print(B)\n",
        "C = np.matrix('1, 2, 3; 1, 2, 3')\n",
        "print(C)\n",
        "C"
      ],
      "metadata": {
        "colab": {
          "base_uri": "https://localhost:8080/"
        },
        "id": "BQ5ozoTkXyMf",
        "outputId": "50017718-38be-4fc2-cbae-a282c7a158ea"
      },
      "execution_count": 71,
      "outputs": [
        {
          "output_type": "stream",
          "name": "stdout",
          "text": [
            "[[1 2]\n",
            " [3 4]]\n",
            "[[1 2]\n",
            " [3 4]]\n",
            "[[1 2 3]\n",
            " [1 2 3]]\n"
          ]
        },
        {
          "output_type": "execute_result",
          "data": {
            "text/plain": [
              "matrix([[1, 2, 3],\n",
              "        [1, 2, 3]])"
            ]
          },
          "metadata": {},
          "execution_count": 71
        }
      ]
    },
    {
      "cell_type": "code",
      "source": [
        ""
      ],
      "metadata": {
        "id": "se9f89YBbQE4"
      },
      "execution_count": null,
      "outputs": []
    },
    {
      "cell_type": "code",
      "source": [
        "np.add(A, B)"
      ],
      "metadata": {
        "colab": {
          "base_uri": "https://localhost:8080/"
        },
        "id": "BuuYcD25YO8c",
        "outputId": "98530d19-34d8-46ff-a2b2-bf6768ccf9f5"
      },
      "execution_count": 28,
      "outputs": [
        {
          "output_type": "execute_result",
          "data": {
            "text/plain": [
              "matrix([[2, 4],\n",
              "        [6, 8]])"
            ]
          },
          "metadata": {},
          "execution_count": 28
        }
      ]
    },
    {
      "cell_type": "code",
      "source": [
        "np.subtract(A, B)"
      ],
      "metadata": {
        "colab": {
          "base_uri": "https://localhost:8080/"
        },
        "id": "FgPUYgJRYSE1",
        "outputId": "7949a358-2fe0-4f1b-d8d3-0b4f0dbf88d1"
      },
      "execution_count": 29,
      "outputs": [
        {
          "output_type": "execute_result",
          "data": {
            "text/plain": [
              "matrix([[0, 0],\n",
              "        [0, 0]])"
            ]
          },
          "metadata": {},
          "execution_count": 29
        }
      ]
    },
    {
      "cell_type": "code",
      "source": [
        "np.add(A, B) == np.add(B, A)"
      ],
      "metadata": {
        "colab": {
          "base_uri": "https://localhost:8080/"
        },
        "id": "gB6eaFSQYuG7",
        "outputId": "ea053936-e2ad-4559-908e-9239c321c208"
      },
      "execution_count": 30,
      "outputs": [
        {
          "output_type": "execute_result",
          "data": {
            "text/plain": [
              "matrix([[ True,  True],\n",
              "        [ True,  True]])"
            ]
          },
          "metadata": {},
          "execution_count": 30
        }
      ]
    },
    {
      "cell_type": "code",
      "source": [
        "np.add(A, 0)"
      ],
      "metadata": {
        "colab": {
          "base_uri": "https://localhost:8080/"
        },
        "id": "KH9_KJOFaG8A",
        "outputId": "1cf6a59a-b8f9-45c7-88c3-8597c1c4091e"
      },
      "execution_count": 31,
      "outputs": [
        {
          "output_type": "execute_result",
          "data": {
            "text/plain": [
              "matrix([[1, 2],\n",
              "        [3, 4]])"
            ]
          },
          "metadata": {},
          "execution_count": 31
        }
      ]
    },
    {
      "cell_type": "code",
      "source": [
        "A+0"
      ],
      "metadata": {
        "colab": {
          "base_uri": "https://localhost:8080/"
        },
        "id": "Mecx_StLaKoo",
        "outputId": "087d801e-5832-4f55-a428-a5711ec774e1"
      },
      "execution_count": 32,
      "outputs": [
        {
          "output_type": "execute_result",
          "data": {
            "text/plain": [
              "matrix([[1, 2],\n",
              "        [3, 4]])"
            ]
          },
          "metadata": {},
          "execution_count": 32
        }
      ]
    },
    {
      "cell_type": "code",
      "source": [
        "A@B"
      ],
      "metadata": {
        "colab": {
          "base_uri": "https://localhost:8080/"
        },
        "id": "Yfvrg3B8aQmT",
        "outputId": "8f165559-664a-49cc-8b9d-bd09aca28109"
      },
      "execution_count": 33,
      "outputs": [
        {
          "output_type": "execute_result",
          "data": {
            "text/plain": [
              "matrix([[ 7, 10],\n",
              "        [15, 22]])"
            ]
          },
          "metadata": {},
          "execution_count": 33
        }
      ]
    },
    {
      "cell_type": "code",
      "source": [
        "A@C"
      ],
      "metadata": {
        "colab": {
          "base_uri": "https://localhost:8080/"
        },
        "id": "jkSb4AIgbRHs",
        "outputId": "693013d2-256d-49fc-d23a-5f42e72e0b58"
      },
      "execution_count": 35,
      "outputs": [
        {
          "output_type": "execute_result",
          "data": {
            "text/plain": [
              "matrix([[ 3,  6,  9],\n",
              "        [ 7, 14, 21]])"
            ]
          },
          "metadata": {},
          "execution_count": 35
        }
      ]
    },
    {
      "cell_type": "code",
      "source": [
        "A_inv = np.linalg.pinv(A)\n",
        "A_inv"
      ],
      "metadata": {
        "colab": {
          "base_uri": "https://localhost:8080/"
        },
        "id": "QJVvk0K7bTZR",
        "outputId": "a26481ce-611a-47e1-fdcb-c61c49510942"
      },
      "execution_count": 44,
      "outputs": [
        {
          "output_type": "execute_result",
          "data": {
            "text/plain": [
              "matrix([[-2. ,  1. ],\n",
              "        [ 1.5, -0.5]])"
            ]
          },
          "metadata": {},
          "execution_count": 44
        }
      ]
    },
    {
      "cell_type": "code",
      "source": [
        "A@A_inv"
      ],
      "metadata": {
        "colab": {
          "base_uri": "https://localhost:8080/"
        },
        "id": "qkedFhALdSb9",
        "outputId": "38794449-07f9-46c4-b3dc-343b183ff87b"
      },
      "execution_count": 45,
      "outputs": [
        {
          "output_type": "execute_result",
          "data": {
            "text/plain": [
              "matrix([[ 1.00000000e+00, -6.66133815e-16],\n",
              "        [ 1.77635684e-15,  1.00000000e+00]])"
            ]
          },
          "metadata": {},
          "execution_count": 45
        }
      ]
    },
    {
      "cell_type": "code",
      "source": [
        "a = np.array([[5,2], [-3, 0]])\n",
        "b = np.array([2, 2])\n",
        "x = np.linalg.solve(a, b)\n",
        "x"
      ],
      "metadata": {
        "colab": {
          "base_uri": "https://localhost:8080/"
        },
        "id": "j8Z4jI4IjMqs",
        "outputId": "fdb586f6-5ca8-41a9-dc88-a9a6a62b1efa"
      },
      "execution_count": 48,
      "outputs": [
        {
          "output_type": "execute_result",
          "data": {
            "text/plain": [
              "array([-0.66666667,  2.66666667])"
            ]
          },
          "metadata": {},
          "execution_count": 48
        }
      ]
    },
    {
      "cell_type": "code",
      "source": [
        "A = np.matrix('1, 1; 4, 1')\n",
        "print(A)"
      ],
      "metadata": {
        "colab": {
          "base_uri": "https://localhost:8080/"
        },
        "id": "o4qWzuBbmK5l",
        "outputId": "517d66d3-defb-40ae-a210-92e4cf2158d6"
      },
      "execution_count": 54,
      "outputs": [
        {
          "output_type": "stream",
          "name": "stdout",
          "text": [
            "[[1 4]\n",
            " [4 1]]\n"
          ]
        }
      ]
    },
    {
      "cell_type": "code",
      "source": [
        "Ident = np.identity(2)\n",
        "Ident"
      ],
      "metadata": {
        "colab": {
          "base_uri": "https://localhost:8080/"
        },
        "id": "OPbjdZsumkVd",
        "outputId": "01ef0321-54e3-4d94-bfe2-5622060ea1a7"
      },
      "execution_count": 56,
      "outputs": [
        {
          "output_type": "execute_result",
          "data": {
            "text/plain": [
              "array([[1., 0.],\n",
              "       [0., 1.]])"
            ]
          },
          "metadata": {},
          "execution_count": 56
        }
      ]
    },
    {
      "cell_type": "code",
      "source": [
        "from sympy import Symbol, solve\n",
        "l = Symbol('l')\n",
        "p = (1 - l)*(1 - l) - (4 * 1)\n",
        "solve(p)"
      ],
      "metadata": {
        "colab": {
          "base_uri": "https://localhost:8080/"
        },
        "id": "vNMEq2RCmueV",
        "outputId": "097d9dab-89b5-4801-9cb4-5841a82a463f"
      },
      "execution_count": 60,
      "outputs": [
        {
          "output_type": "execute_result",
          "data": {
            "text/plain": [
              "[-1, 3]"
            ]
          },
          "metadata": {},
          "execution_count": 60
        }
      ]
    },
    {
      "cell_type": "code",
      "source": [
        "B = np.array([[1, 2],[3,4]])\n",
        "B\n",
        "C = np.array([[1, 2, 3],[4, 5, 6], [7, 8, 9]])\n",
        "C"
      ],
      "metadata": {
        "colab": {
          "base_uri": "https://localhost:8080/"
        },
        "id": "616KT1dYxvBv",
        "outputId": "d5d68a16-f129-4513-ed34-6e22904bba5d"
      },
      "execution_count": 162,
      "outputs": [
        {
          "output_type": "execute_result",
          "data": {
            "text/plain": [
              "array([[1, 2, 3],\n",
              "       [4, 5, 6],\n",
              "       [7, 8, 9]])"
            ]
          },
          "metadata": {},
          "execution_count": 162
        }
      ]
    },
    {
      "cell_type": "code",
      "source": [
        "def getMatrixMinor(m, col):\n",
        "    return [row[:col] + row[col+1:] for row in (m[1:])]\n",
        "\n",
        "def getMatrixDeternminant(m):\n",
        "\n",
        "  # 1X1 matrix\n",
        "  if (len(m) == 1):\n",
        "    return A[0]\n",
        "\n",
        "  # 2x2 matrix\n",
        "  if len(m) == 2:\n",
        "      return m[0][0]*m[1][1]-m[0][1]*m[1][0]\n",
        "\n",
        "  determinant = 0.0\n",
        "  for col in range(len(m)):\n",
        "\n",
        "      # focus value - column of first row\n",
        "      fc = m[0][col]\n",
        "\n",
        "      # multiplication sign\n",
        "      sign = (-1)**col\n",
        "\n",
        "      # get minor matrix for column\n",
        "      mm = getMatrixMinor(m, col)\n",
        "\n",
        "      # compute minor matrix determinant\n",
        "      mm_det = getMatrixDeternminant(mm)\n",
        "\n",
        "      determinant += sign * fc * mm_det\n",
        "  \n",
        "  return determinant\n",
        "\n",
        "\n",
        "A = [[-2, 2,-3],[-1,1,3],[2,0,-1]] \n",
        "B = [[4, -3, 5],[1, 0, 3],[-1, 5, 2]]\n",
        "C = [[1, 2],[3,4]]\n",
        "\n",
        "print('Matrix: {0} np.linalg.det: {1}, My det: {2}'.format(A, np.linalg.det(A), getMatrixDeternminant(A)))\n",
        "print('Matrix: {0}, np.linalg.det: {1}, My det: {2}'.format(B, np.linalg.det(B), getMatrixDeternminant(B)))\n",
        "print('Matrix: {0}, np.linalg.det: {1}, My det: {2}'.format(C, np.linalg.det(C), getMatrixDeternminant(C)))\n"
      ],
      "metadata": {
        "colab": {
          "base_uri": "https://localhost:8080/"
        },
        "id": "8WHRufp-x3FO",
        "outputId": "5576a6de-532c-4182-a1a1-8d1ccc6a66af"
      },
      "execution_count": 219,
      "outputs": [
        {
          "output_type": "stream",
          "name": "stdout",
          "text": [
            "Matrix: [[-2, 2, -3], [-1, 1, 3], [2, 0, -1]] np.linalg.det: 17.999999999999996, My det: 18.0\n",
            "Matrix: [[4, -3, 5], [1, 0, 3], [-1, 5, 2]], np.linalg.det: -20.000000000000007, My det: -20.0\n",
            "Matrix: [[1, 2], [3, 4]], np.linalg.det: -2.0000000000000004, My det: -2\n"
          ]
        }
      ]
    }
  ]
}