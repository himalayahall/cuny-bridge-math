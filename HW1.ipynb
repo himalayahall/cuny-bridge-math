{
  "nbformat": 4,
  "nbformat_minor": 0,
  "metadata": {
    "colab": {
      "name": "Copy of Untitled0.ipynb",
      "provenance": [],
      "collapsed_sections": [],
      "authorship_tag": "ABX9TyPe/sNIY2lBOBzMNAQaDJp6",
      "include_colab_link": true
    },
    "kernelspec": {
      "name": "python3",
      "display_name": "Python 3"
    },
    "language_info": {
      "name": "python"
    }
  },
  "cells": [
    {
      "cell_type": "markdown",
      "metadata": {
        "id": "view-in-github",
        "colab_type": "text"
      },
      "source": [
        "<a href=\"https://colab.research.google.com/github/himalayahall/cuny-bridge-math/blob/main/HW1.ipynb\" target=\"_parent\"><img src=\"https://colab.research.google.com/assets/colab-badge.svg\" alt=\"Open In Colab\"/></a>"
      ]
    },
    {
      "cell_type": "code",
      "source": [
        "def evenodd(num : int) -> None :\n",
        "  '''\n",
        "    Chapter 1.  Programming Challenge 1 page 22, Even-Odd Vending Machine\n",
        "    Prints whether number is even-odd, then prints next 9 number of the same type.\n",
        "    For example, if input is 1, the output will be:\n",
        "      1 is odd\n",
        "      1, 3, 5, 7, 9, 11, 13, 15, 17, 19\n",
        "    if input is 2, the output will be:\n",
        "      2 is even\n",
        "      2, 4, 6, 8, 10, 12, 14, 16, 18, 20   \n",
        "    Params:\n",
        "      num : whole number\n",
        "    Exceptions:\n",
        "      Raises exception if input is non-numeric or is not a whole number (has significant digits to right of decimal)\n",
        "  '''\n",
        "  if (isinstance(num, int) == False):\n",
        "    if (isinstance(num, float) == False or num.is_integer() == False):\n",
        "      raise Exception(\"Invalid argument (must be integer): {}\".format(num))\n",
        "\n",
        "  if (num % 2 == 0):\n",
        "    print (\"{0} is even\".format(num))\n",
        "  else:\n",
        "    print (\"{0} is odd\".format(num))\n",
        "\n",
        "  for i in range(0, 10):\n",
        "    print(num + i * 2)\n",
        "  "
      ],
      "metadata": {
        "id": "o8lc1LbtPws2"
      },
      "execution_count": 1,
      "outputs": []
    },
    {
      "cell_type": "code",
      "source": [
        "# Test evenodd\n",
        "evenodd(2)\n",
        "evenodd(1)"
      ],
      "metadata": {
        "id": "szfbqxa8UHcT",
        "colab": {
          "base_uri": "https://localhost:8080/"
        },
        "outputId": "cf49e398-e806-4f9f-c588-1f7e2ecef7b4"
      },
      "execution_count": 2,
      "outputs": [
        {
          "output_type": "stream",
          "name": "stdout",
          "text": [
            "2 is even\n",
            "2\n",
            "4\n",
            "6\n",
            "8\n",
            "10\n",
            "12\n",
            "14\n",
            "16\n",
            "18\n",
            "20\n",
            "1 is odd\n",
            "1\n",
            "3\n",
            "5\n",
            "7\n",
            "9\n",
            "11\n",
            "13\n",
            "15\n",
            "17\n",
            "19\n"
          ]
        }
      ]
    },
    {
      "cell_type": "code",
      "source": [
        "'''\n",
        "Exploring a Quadratic Function Visually\n",
        "'''\n",
        "\n",
        "import matplotlib.pyplot as plt\n",
        "from typing import List, Set, Dict, Tuple, Optional\n",
        "\n",
        "def draw_plot(x :  List[float], y : List[float], title : str = \"Quadratic Function\", x_label : str = \"x-axis\", y_label : str = \"y-axis\", marker : str = 'o') -> None:\n",
        "  '''\n",
        "  Draws plot.\n",
        "  Params:\n",
        "    x : x values\n",
        "    y : y values\n",
        "  '''    \n",
        "  plt.plot(x, y, marker)\n",
        "  plt.xlabel('x-axis')\n",
        "\n",
        "  plt.ylabel('y-axis')\n",
        "  plt.title(title)\n",
        "\n",
        "def quad(x : float, a : float, b : float, c : float) -> float:\n",
        "  '''\n",
        "  Chapter 2.  Programming Challenge 2 page 55, Exploring a Quadratic Function Visually\n",
        "  Quadratic function: a(x*x)+(b*x)+c\n",
        "  Params:\n",
        "    x : x value\n",
        "    a : a value, cannot be 0.\n",
        "    b : b value\n",
        "    c : constant value\n",
        "  Returns: a*sqr(x)+b*x+c\n",
        "  '''\n",
        "  if (a == 0):\n",
        "    raise Exception(\"Invalid argument (a cannot be 0)\")\n",
        "  return (a * (x ** 2)) + (b * x) + c\n",
        "\n",
        "# Test quadratic function\n",
        "x = [item for item in range(-10, 10)]\n",
        "y = [quad(item, 1, 2, 1) for item in x]\n",
        "draw_plot(x, y)\n",
        "#print(x)\n",
        "#print(y)"
      ],
      "metadata": {
        "id": "QabnWA43Y-Rk",
        "colab": {
          "base_uri": "https://localhost:8080/",
          "height": 295
        },
        "outputId": "07b578d4-534d-4ae5-cbba-80cca04f8b8e"
      },
      "execution_count": 3,
      "outputs": [
        {
          "output_type": "display_data",
          "data": {
            "text/plain": [
              "<Figure size 432x288 with 1 Axes>"
            ],
            "image/png": "[encoded data removed]"
          },
          "metadata": {
            "needs_background": "light"
          }
        }
      ]
    },
    {
      "cell_type": "code",
      "source": [
        "'''\n",
        "Statistics Calculator\n",
        "'''\n",
        "import csv\n",
        "from collections import Counter\n",
        "def read_csv(filename : str) -> List[float]:\n",
        "  with open(filename) as f:\n",
        "    reader = csv.reader(f)\n",
        "\n",
        "    'Skip header row'\n",
        "    next(reader)\n",
        "    data = []\n",
        "    for row in reader:\n",
        "      data.append(float(row[0]))\n",
        "  return data\n",
        "\n",
        "def calc_mean(numbers: List[float]) -> float:\n",
        "  return sum(numbers) / len(numbers)\n",
        "\n",
        "def calc_median(numbers: List[float]) -> float:\n",
        "  numbers.sort()\n",
        "\n",
        "  mids = []\n",
        "  N = len(numbers)\n",
        "  if (N % 2 == 1):\n",
        "      mid_index = int((N + 1) / 2) - 1\n",
        "      mids.append(numbers[mid_index])\n",
        "  else:\n",
        "      mid_index = int(N / 2) - 1\n",
        "      mids.append(numbers[mid_index])\n",
        "      mids.append(numbers[mid_index + 1] )\n",
        "  \n",
        "  return sum(mids) / len(mids)\n",
        "\n",
        "def calc_mode(numbers: List[float]) -> float:\n",
        "  counter = Counter(numbers)\n",
        "  mode = counter.most_common(1)\n",
        "  return mode[0][0]\n",
        "\n",
        "def find_range(numbers: List[float]) -> List[float]:\n",
        "  low = min(numbers)\n",
        "  high = max(numbers)\n",
        "  return low, high, high - low\n",
        "\n",
        "def find_differences_from_mean(numbers: List[float]) -> List[float]:\n",
        "  mean = calc_mean(numbers)\n",
        "  diffs = [item - mean for item in numbers]\n",
        "  return diffs\n",
        "\n",
        "def calc_variance(numbers: List[float]) -> float:\n",
        "  diffs = find_differences_from_mean(numbers)\n",
        "  squared = [item ** 2 for item in diffs]\n",
        "  return sum(squared) / len(numbers)\n",
        "\n",
        "def stats_calculator() -> None:\n",
        "  filename = input(\"Please enter CSV file name: \")\n",
        "  numbers = read_csv(filename)\n",
        "  \n",
        "  mean = sum(numbers) / len(numbers)\n",
        "  mode = calc_median(numbers)\n",
        "  range = find_range(numbers)\n",
        "  var = calc_variance(numbers)\n",
        "  std = var ** 0.5\n",
        "\n",
        "\n",
        "even_count_numbers = [100, 60, 70, 900, 100, 200, 500, 500, 503, 600, 1000, 1200]\n",
        "print(\"Mean: {0}, Median: {1}, Mode: {2}, Range: {3}\".format(calc_mean(even_count_numbers), calc_median(even_count_numbers), calc_mode(even_count_numbers), find_range(even_count_numbers)))\n",
        "\n",
        "odd_count_numbers = [100, 60, 70, 900, 100, 200, 500, 500, 503, 600, 1000, 1200, 800]\n",
        "print(\"Mean: {0}, Median: {1}, Mode: {2}\".format(calc_mean(odd_count_numbers), calc_median(odd_count_numbers),calc_mode(odd_count_numbers)))\n",
        "\n",
        "mode_numbers = [100, 60, 70, 900, 100, 200, 500, 500, 503, 600, 1000, 1200]\n",
        "print(\"Mean: {0}, Median: {1}, Mode: {2}, Variance: {3}\".format(calc_mean(mode_numbers), calc_median(mode_numbers),calc_mode(mode_numbers), calc_variance(mode_numbers)))\n",
        "\n"
      ],
      "metadata": {
        "colab": {
          "base_uri": "https://localhost:8080/"
        },
        "id": "Ps_TunzDZvoQ",
        "outputId": "22abf3f1-af16-4e2f-a03e-20f6e0020d19"
      },
      "execution_count": 4,
      "outputs": [
        {
          "output_type": "stream",
          "name": "stdout",
          "text": [
            "Mean: 477.75, Median: 500.0, Mode: 100, Range: (60, 1200, 1140)\n",
            "Mean: 502.53846153846155, Median: 500.0, Mode: 100\n",
            "Mean: 477.75, Median: 500.0, Mode: 100, Variance: 141047.35416666666\n"
          ]
        }
      ]
    },
    {
      "cell_type": "code",
      "source": [
        "from sympy import Symbol\n",
        "from sympy import factor\n",
        "x = Symbol('x')\n",
        "y = Symbol('y')\n",
        "\n",
        "p = x**3 + 3*x**2*y + 3*x*y**2 + y**3\n",
        "facts = factor(p)\n",
        "print(facts)\n",
        "facts.expand()"
      ],
      "metadata": {
        "colab": {
          "base_uri": "https://localhost:8080/",
          "height": 55
        },
        "id": "qq00jxIMG4bU",
        "outputId": "bfaa3b4e-17fb-4466-8e12-c89012e5b545"
      },
      "execution_count": 5,
      "outputs": [
        {
          "output_type": "stream",
          "name": "stdout",
          "text": [
            "(x + y)**3\n"
          ]
        },
        {
          "output_type": "execute_result",
          "data": {
            "text/plain": [
              "x**3 + 3*x**2*y + 3*x*y**2 + y**3"
            ],
            "text/latex": "$\\displaystyle x^{3} + 3 x^{2} y + 3 x y^{2} + y^{3}$"
          },
          "metadata": {},
          "execution_count": 5
        }
      ]
    },
    {
      "cell_type": "code",
      "source": [
        "from sympy import Symbol, pprint, init_printing\n",
        "def print_series(n: int, x_value: float) -> None:\n",
        "  init_printing(order='rev-lex')\n",
        "  x = Symbol('x')\n",
        "  series = x\n",
        "  for i in range(2, n + 1):\n",
        "    series = series + (x**i) / i\n",
        "  pprint(series)\n",
        "  series_value = series.subs({x:x_value})\n",
        "  print('Value of the series at {0}: {1}'.format(x_value, series_value))\n",
        "\n",
        "print_series(10, 2)"
      ],
      "metadata": {
        "colab": {
          "base_uri": "https://localhost:8080/"
        },
        "id": "Jn5QpJUgI3XB",
        "outputId": "97147330-e592-4425-d1aa-ac1f57152bb3"
      },
      "execution_count": 6,
      "outputs": [
        {
          "output_type": "stream",
          "name": "stdout",
          "text": [
            "     2    3    4    5    6    7    8    9    10\n",
            "    x    x    x    x    x    x    x    x    x  \n",
            "x + ── + ── + ── + ── + ── + ── + ── + ── + ───\n",
            "    2    3    4    5    6    7    8    9     10\n",
            "Value of the series at 2: 74752/315\n"
          ]
        }
      ]
    },
    {
      "cell_type": "code",
      "source": [
        "'''\n",
        "from sympy import solve\n",
        "x = Symbol('x')\n",
        "expr = x - 5 - 7\n",
        "solve(expr)\n",
        "\n",
        "expr = x**2 + 5*x + 4\n",
        "solve(expr, dict=True)\n",
        "'''"
      ],
      "metadata": {
        "colab": {
          "base_uri": "https://localhost:8080/",
          "height": 37
        },
        "id": "lH5LnHNvLvlY",
        "outputId": "f34b9614-8355-437e-e67c-3e5b55621426"
      },
      "execution_count": 7,
      "outputs": [
        {
          "output_type": "execute_result",
          "data": {
            "text/plain": [
              "\"\\nfrom sympy import solve\\nx = Symbol('x')\\nexpr = x - 5 - 7\\nsolve(expr)\\n\\nexpr = x**2 + 5*x + 4\\nsolve(expr, dict=True)\\n\""
            ],
            "application/vnd.google.colaboratory.intrinsic+json": {
              "type": "string"
            }
          },
          "metadata": {},
          "execution_count": 7
        }
      ]
    },
    {
      "cell_type": "code",
      "source": [
        "from sympy.plotting import plot\n",
        "from sympy import Symbol\n",
        "x = Symbol('x')\n",
        "plot(x**2)"
      ],
      "metadata": {
        "colab": {
          "base_uri": "https://localhost:8080/",
          "height": 313
        },
        "id": "3i6nBE6RN_Vq",
        "outputId": "6b74594b-d08c-40ff-f8b9-e5145e250510"
      },
      "execution_count": 8,
      "outputs": [
        {
          "output_type": "display_data",
          "data": {
            "text/plain": [
              "<Figure size 432x288 with 1 Axes>"
            ],
            "image/png": "[encoded data removed]"
          },
          "metadata": {
            "needs_background": "light"
          }
        },
        {
          "output_type": "execute_result",
          "data": {
            "text/plain": [
              "<sympy.plotting.plot.Plot at 0x7f2bfb8172d0>"
            ]
          },
          "metadata": {},
          "execution_count": 8
        }
      ]
    },
    {
      "cell_type": "code",
      "source": [
        "from sympy import Poly, Symbol, solve_poly_inequality, sympify\n",
        "\n",
        "def solve_single_var_inequality(var_symbol: str, ineq : str):\n",
        "  '''\n",
        "  Solving Single-Variable Inequalities.\n",
        "  Params:\n",
        "    var_symbol: variable symbol in inequality\n",
        "    ineq: inequality expression\n",
        "  '''\n",
        "  \n",
        "  ineq_expr = sympify(ineq)\n",
        "\n",
        "  lhs = ineq_expr.lhs\n",
        "  if (lhs.is_polynomial() == False):\n",
        "    raise Exception('lhs is not a polynomial: {0}'.format(lhs))\n",
        "\n",
        "  symbol = Symbol(var_symbol)\n",
        "  poly = Poly(lhs, symbol)\n",
        "  rel = ineq_expr.rel_op\n",
        "  return solve_poly_inequality(poly, rel)\n",
        "\n",
        "solve_single_var_inequality('x', '-x**2 + 4 < 0')\n",
        "#"
      ],
      "metadata": {
        "colab": {
          "base_uri": "https://localhost:8080/",
          "height": 37
        },
        "id": "rB2TwdStKAuZ",
        "outputId": "96bc16aa-a4df-4a6d-da31-35324f109b50"
      },
      "execution_count": 9,
      "outputs": [
        {
          "output_type": "execute_result",
          "data": {
            "text/plain": [
              "[(-∞, -2), (2, ∞)]"
            ],
            "image/png": "[encoded data removed]",
            "text/latex": "$\\displaystyle \\left[ \\left(-\\infty, -2\\right), \\  \\left(2, \\infty\\right)\\right]$"
          },
          "metadata": {},
          "execution_count": 9
        }
      ]
    },
    {
      "cell_type": "code",
      "source": [
        "from random import seed\n",
        "from random import randint\n",
        "\n",
        "def calc_expected_value(trials: int) -> float:\n",
        "    sum_of_rolls = sum(randint(1, 6) for i in range(0, trials))\n",
        "    return sum_of_rolls / trials\n",
        "\n",
        "trials = [100, 1000, 10000, 100000, 500000, 750000, 1000000]\n",
        "expected_vals = {t : calc_expected_value(t) for t in trials}\n",
        "print('Expected value: 3.5')\n",
        "for v in trials:\n",
        "  print('Trials: {0} : Trial average: {1}'.format(v, expected_vals[v]))"
      ],
      "metadata": {
        "colab": {
          "base_uri": "https://localhost:8080/"
        },
        "id": "JaDiRY4g-jWt",
        "outputId": "df973548-efa1-4bcb-99bd-63ada7b15886"
      },
      "execution_count": 10,
      "outputs": [
        {
          "output_type": "stream",
          "name": "stdout",
          "text": [
            "Expected value: 3.5\n",
            "Trials: 100 : Trial average: 3.6\n",
            "Trials: 1000 : Trial average: 3.481\n",
            "Trials: 10000 : Trial average: 3.4966\n",
            "Trials: 100000 : Trial average: 3.50143\n",
            "Trials: 500000 : Trial average: 3.501146\n",
            "Trials: 750000 : Trial average: 3.5015\n",
            "Trials: 1000000 : Trial average: 3.498526\n"
          ]
        }
      ]
    },
    {
      "cell_type": "code",
      "source": [
        "from sympy import Symbol, sympify, pprint, init_printing, Derivative, diff\n",
        "from sympy.plotting import plot\n",
        "import numpy as np\n",
        "import matplotlib.pyplot as plt\n",
        "\n",
        "def gradient_descent(f : str, x : str, start : float, learn_rate : float = 0.2, n_iter : int = 50, tolerance : float = 1e-06):\n",
        "  \n",
        "  f = sympify(f)\n",
        "  pprint(f)\n",
        "\n",
        "  # Differentiate f w.r.t x\n",
        "  x = Symbol(x)\n",
        "  gradient = diff(f, x)\n",
        "  pprint(gradient)\n",
        "\n",
        "  x_vals = []\n",
        "  y_vals = []\n",
        "\n",
        "  vector = start\n",
        "  for i in range(n_iter):\n",
        "    x_vals.append(vector)\n",
        "    y = gradient.subs(x, vector)\n",
        "    y_vals.append(y)\n",
        "    #print('{0} x: {1}, y: {2}'.format(i, vector, y))\n",
        "\n",
        "    delta = -learn_rate * gradient.subs(x, vector)\n",
        "    print(str(delta))\n",
        "    if np.all(np.abs(delta) <= tolerance):\n",
        "      break\n",
        "    vector += delta\n",
        "\n",
        "  return vector, tuple(zip(x_vals, y_vals)) \n",
        "\n",
        "func = 'x**4-5*x**2-3*x'\n",
        "x = Symbol('x')\n",
        "\n",
        "\n",
        "gd = gradient_descent(func, x.name, learn_rate=0.1, start=0, n_iter=10)\n",
        "print('Minimum: {0}, Coordinates: {1}'.format(gd[0], gd[1]))\n",
        "\n",
        "#print(gradient_descent(\"x**2\", \"x\", learn_rate=0.8, start=10))\n",
        "\n",
        "plot(func, (x, -3, 3), title=\"%s %s\"%(\"Graph of \", func), xlabel=x.name, ylabel='f('+x.name+')')"
      ],
      "metadata": {
        "id": "JgFK6YYoDnru",
        "outputId": "8f35d1a0-3b01-4a01-96a1-fe4b042ab46a",
        "colab": {
          "base_uri": "https://localhost:8080/",
          "height": 589
        }
      },
      "execution_count": 96,
      "outputs": [
        {
          "output_type": "stream",
          "name": "stdout",
          "text": [
            "          2    4\n",
            "-3⋅x - 5⋅x  + x \n",
            "               3\n",
            "-3 - 10⋅x + 4⋅x \n",
            "0.300000000000000\n",
            "0.589200000000000\n",
            "0.907972132684800\n",
            "-0.224650383308583\n",
            "0.317093530146425\n",
            "-0.509243544120308\n",
            "0.628293187063522\n",
            "-0.933107159713474\n",
            "0.877865133868027\n",
            "-0.728173212657664\n",
            "Minimum: 1.22524968396274, Coordinates: ((0, -3), (0.300000000000000, -5.89200000000000), (0.889200000000000, -9.07972132684800), (1.79717213268480, 2.24650383308582), (1.57252174937622, -3.17093530146425), (1.88961527952264, 5.09243544120308), (1.38037173540233, -6.28293187063522), (2.00866492246586, 9.33107159713474), (1.07555776275238, -8.77865133868027), (1.95342289662041, 7.28173212657664))\n"
          ]
        },
        {
          "output_type": "display_data",
          "data": {
            "text/plain": [
              "<Figure size 432x288 with 1 Axes>"
            ],
            "image/png": "[encoded data removed]"
          },
          "metadata": {
            "needs_background": "light"
          }
        },
        {
          "output_type": "execute_result",
          "data": {
            "text/plain": [
              "<sympy.plotting.plot.Plot at 0x7f2befd859d0>"
            ]
          },
          "metadata": {},
          "execution_count": 96
        }
      ]
    },
    {
      "cell_type": "code",
      "source": [
        "from sympy import Symbol, sympify, pprint, init_printing, Derivative, diff\n",
        "from sympy.plotting import plot\n",
        "import numpy as np\n",
        "import matplotlib.pyplot as plt\n",
        "\n",
        "def gradient_descent3(\n",
        "\n",
        "    gradient, start, learn_rate, n_iter=50, tolerance=1e-06\n",
        "\n",
        "):\n",
        "\n",
        "    vector = start\n",
        "\n",
        "    for _ in range(n_iter):\n",
        "\n",
        "        diff = -learn_rate * gradient(vector)\n",
        "\n",
        "        if np.all(np.abs(diff) <= tolerance):\n",
        "\n",
        "            break\n",
        "\n",
        "        vector += diff\n",
        "\n",
        "    return vector\n",
        "\n",
        "def gradient_descent2(f : str, symbols, start, learn_rate : float = 0.2, n_iter : int = 50, tolerance : float = 1e-06):\n",
        "  \n",
        "  f = sympify(f)\n",
        "  pprint(f)\n",
        "\n",
        "  # Differentiate\n",
        "  symbols = [Symbol(s) for s in symbols]\n",
        "  pprint(symbols)\n",
        "\n",
        "  gradients = [diff(f, s) for s in symbols]\n",
        "  pprint(gradients)\n",
        "\n",
        "  x_vals = []\n",
        "  y_vals = []\n",
        "\n",
        "  vector = start\n",
        "  \n",
        "  for i in range(n_iter):\n",
        "    deltas = np.array([])\n",
        "    for j in range(0, len(gradients)):\n",
        "      delta = -learn_rate * gradients[j].subs(symbols[j], vector[j])\n",
        "      deltas = np.append(deltas, delta)\n",
        "      print('{0}: {1}'.format(symbols[j], str(delta)))\n",
        "    #elta = -learn_rate * gradients.subs(symbols, vector)\n",
        "    if np.all(np.abs(deltas) <= tolerance):\n",
        "      break\n",
        "    vector = np.add(vector, deltas)\n",
        "\n",
        "  return vector\n",
        "\n",
        "#gradient_descent3(gradient=lambda v : np.array([2 * v[0], 4 * v[1] ** 3]), start=np.array([1.0, 1.0]), learn_rate=0.2, tolerance=1e-08)\n",
        "gradient_descent2('x**4-5*x**2-3*x', symbols=np.array(['x']), start=np.array([0.0]), learn_rate=0.1, n_iter=10)\n",
        "gradient_descent2('x**2+y**4', symbols=np.array(['x', 'y']), start=np.array([1.0, 1.0]), learn_rate=0.2, tolerance=1e-08, n_iter=50)"
      ],
      "metadata": {
        "id": "z0hmdPPGgbro",
        "outputId": "cd7408ed-d27c-4312-8c53-8b24e1707a29",
        "colab": {
          "base_uri": "https://localhost:8080/"
        }
      },
      "execution_count": 99,
      "outputs": [
        {
          "output_type": "stream",
          "name": "stdout",
          "text": [
            "          2    4\n",
            "-3⋅x - 5⋅x  + x \n",
            "[x]\n",
            "⎡               3⎤\n",
            "⎣-3 - 10⋅x + 4⋅x ⎦\n",
            "x: 0.300000000000000\n",
            "x: 0.589200000000000\n",
            "x: 0.907972132684800\n",
            "x: -0.224650383308583\n",
            "x: 0.317093530146425\n",
            "x: -0.509243544120308\n",
            "x: 0.628293187063522\n",
            "x: -0.933107159713474\n",
            "x: 0.877865133868027\n",
            "x: -0.728173212657664\n",
            " 4    2\n",
            "y  + x \n",
            "[x, y]\n",
            "⎡        3⎤\n",
            "⎣2⋅x, 4⋅y ⎦\n",
            "x: -0.400000000000000\n",
            "y: -0.800000000000000\n",
            "x: -0.240000000000000\n",
            "y: -0.00640000000000000\n",
            "x: -0.144000000000000\n",
            "y: -0.00580505108480000\n",
            "x: -0.0864000000000000\n",
            "y: -0.00529836298293539\n",
            "x: -0.0518400000000000\n",
            "y: -0.00486243960160080\n",
            "x: -0.0311040000000000\n",
            "y: -0.00448403864269574\n",
            "x: -0.0186624000000000\n",
            "y: -0.00415296513330792\n",
            "x: -0.0111974400000000\n",
            "y: -0.00386125133572046\n",
            "x: -0.00671846400000000\n",
            "y: -0.00360258644695672\n",
            "x: -0.00403107840000000\n",
            "y: -0.00337191192209224\n",
            "x: -0.00241864704000000\n",
            "y: -0.00316512910728397\n",
            "x: -0.00145118822400000\n",
            "y: -0.00297888457259164\n",
            "x: -0.000870712934400000\n",
            "y: -0.00281041017821244\n",
            "x: -0.000522427760640000\n",
            "y: -0.00265740232991352\n",
            "x: -0.000313456656384000\n",
            "y: -0.00251792971294119\n",
            "x: -0.000188073993830400\n",
            "y: -0.00239036200299130\n",
            "x: -0.000112844396298240\n",
            "y: -0.00227331422168783\n",
            "x: -6.77066377789440e-5\n",
            "y: -0.00216560289362826\n",
            "x: -4.06239826673664e-5\n",
            "y: -0.00206621120045474\n",
            "x: -2.43743896004198e-5\n",
            "y: -0.00197426106125640\n",
            "x: -1.46246337602519e-5\n",
            "y: -0.00188899059383755\n",
            "x: -8.77478025615113e-6\n",
            "y: -0.00180973579175272\n",
            "x: -5.26486815369068e-6\n",
            "y: -0.00173591553049853\n",
            "x: -3.15892089221441e-6\n",
            "y: -0.00166701922224480\n",
            "x: -1.89535253532864e-6\n",
            "y: -0.00160259659231845\n",
            "x: -1.13721152119719e-6\n",
            "y: -0.00154224916656531\n",
            "x: -6.82326912718312e-7\n",
            "y: -0.00148562314679270\n",
            "x: -4.09396147630987e-7\n",
            "y: -0.00143240341895517\n",
            "x: -2.45637688578592e-7\n",
            "y: -0.00138230849080137\n",
            "x: -1.47382613147155e-7\n",
            "y: -0.00133508619615363\n",
            "x: -8.84295678882932e-8\n",
            "y: -0.00129051003463948\n",
            "x: -5.30577407329759e-8\n",
            "y: -0.00124837604061083\n",
            "x: -3.18346444397856e-8\n",
            "y: -0.00120850009472074\n",
            "x: -1.91007866638713e-8\n",
            "y: -0.00117071560734807\n",
            "x: -1.14604719983228e-8\n",
            "y: -0.00113487151565048\n",
            "x: -6.87628319899368e-9\n",
            "y: -0.00110083054616213\n",
            "x: -4.12576991939621e-9\n",
            "y: -0.00106846770305339\n",
            "x: -2.47546195163773e-9\n",
            "y: -0.00103766894883564\n",
            "x: -1.48527717098264e-9\n",
            "y: -0.00100833004973734\n",
            "x: -8.91166302589581e-10\n",
            "y: -0.000980355562441655\n",
            "x: -5.34699781553749e-10\n",
            "y: -0.000953657942551352\n",
            "x: -3.20819868932249e-10\n",
            "y: -0.000928156758185835\n",
            "x: -1.92491921359350e-10\n",
            "y: -0.000903777994637131\n",
            "x: -1.15495152815610e-10\n",
            "y: -0.000880453438112176\n",
            "x: -6.92970916893658e-11\n",
            "y: -0.000858120128344617\n",
            "x: -4.15782550136195e-11\n",
            "y: -0.000836719871331866\n",
            "x: -2.49469530081717e-11\n",
            "y: -0.000816198804692160\n",
            "x: -1.49681718049030e-11\n",
            "y: -0.000796507009182179\n",
            "x: -8.98090308294181e-12\n",
            "y: -0.000777598160801126\n",
            "x: -5.38854184976508e-12\n",
            "y: -0.000759429218658905\n"
          ]
        },
        {
          "output_type": "execute_result",
          "data": {
            "text/plain": [
              "array([8.08281277464763e-12, 0.0975207119893121], dtype=object)"
            ]
          },
          "metadata": {},
          "execution_count": 99
        }
      ]
    }
  ]
}