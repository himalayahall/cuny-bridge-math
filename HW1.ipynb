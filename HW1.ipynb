{
  "nbformat": 4,
  "nbformat_minor": 0,
  "metadata": {
    "colab": {
      "name": "Untitled0.ipynb",
      "provenance": [],
      "collapsed_sections": [],
      "authorship_tag": "ABX9TyO65QsoyQdZE6brv9FPWCG+",
      "include_colab_link": true
    },
    "kernelspec": {
      "name": "python3",
      "display_name": "Python 3"
    },
    "language_info": {
      "name": "python"
    }
  },
  "cells": [
    {
      "cell_type": "markdown",
      "metadata": {
        "id": "view-in-github",
        "colab_type": "text"
      },
      "source": [
        "<a href=\"https://colab.research.google.com/github/himalayahall/cuny-bridge-math/blob/main/HW1.ipynb\" target=\"_parent\"><img src=\"https://colab.research.google.com/assets/colab-badge.svg\" alt=\"Open In Colab\"/></a>"
      ]
    },
    {
      "cell_type": "code",
      "source": [
        "def evenodd(num : int) -> None :\n",
        "  '''\n",
        "  Chapter 1 Problem #1: Even-Odd Vending Machine\n",
        "  Try writing an “even-odd vending machine,” which will take a number as input\n",
        "  and do two things\n",
        "  1. Print whether the number is even or odd.\n",
        "  2. Display the number followed by the next 9 even or odd numbers.\n",
        "  If the input is 2, the program should print even and then print 2, 4, 6, 8, 10,\n",
        "  12, 14, 16, 18, 20. Similarly, if the input is 1, the program should print odd\n",
        "  and then print 1, 3, 5, 7, 9, 11, 13, 15, 17, 19. Your program should use the\n",
        "  is_integer() method to display an error message if the input is a number with\n",
        "  significant digits beyond the decimal point.\n",
        "  Doing Math with Python by Amit Saha\n",
        "  '''\n",
        "  if (isinstance(num, int) == False):\n",
        "    if (isinstance(num, float) == False or num.is_integer() == False):\n",
        "      raise Exception(\"Invalid argument (must be integer): \" + num)\n",
        "\n",
        "  if (num % 2 == 0):\n",
        "    print (str(num) + \" is even\")\n",
        "  else:\n",
        "    print (str(num) + \" is odd\")\n",
        "\n",
        "  for i in range(0, 10):\n",
        "    print(num + i * 2)\n",
        "  "
      ],
      "metadata": {
        "id": "o8lc1LbtPws2"
      },
      "execution_count": 85,
      "outputs": []
    },
    {
      "cell_type": "code",
      "source": [
        "#evenodd(1)"
      ],
      "metadata": {
        "colab": {
          "base_uri": "https://localhost:8080/"
        },
        "id": "szfbqxa8UHcT",
        "outputId": "63ac98f1-3ffe-4c97-b96e-5e841341f37f"
      },
      "execution_count": 48,
      "outputs": [
        {
          "output_type": "stream",
          "name": "stdout",
          "text": [
            "1 is odd\n",
            "1\n",
            "3\n",
            "5\n",
            "7\n",
            "9\n",
            "11\n",
            "13\n",
            "15\n",
            "17\n",
            "19\n"
          ]
        }
      ]
    },
    {
      "cell_type": "code",
      "source": [
        "import matplotlib.pyplot as plt\n",
        "from typing import List, Set, Dict, Tuple, Optional"
      ],
      "metadata": {
        "id": "MFW09PyzZrSa"
      },
      "execution_count": 91,
      "outputs": []
    },
    {
      "cell_type": "code",
      "source": [
        "def quad(x : float, a : float, b : float, c : float) -> float:\n",
        "  '''\n",
        "  Quadratic function.\n",
        "  Params:\n",
        "    x : x value\n",
        "    a : a value, cannot be 0.\n",
        "    b : b value\n",
        "    c : constant value\n",
        "  Returns: a*sqr(x)+b*x+c\n",
        "  '''\n",
        "  if (a == 0):\n",
        "    raise Exception(\"Invalid argument (a cannot be 0)\")\n",
        "  return (a * pow(x, 2)) + (b * x) + c"
      ],
      "metadata": {
        "id": "QabnWA43Y-Rk"
      },
      "execution_count": 120,
      "outputs": []
    },
    {
      "cell_type": "code",
      "source": [
        "def draw_plot(x :  List[float], y : List[float]) -> None:\n",
        "  '''\n",
        "  Draws plot.\n",
        "  Params:\n",
        "    x : x values\n",
        "    y : y values\n",
        "  '''    \n",
        "  plt.plot(x, y, marker='o')\n",
        "  plt.xlabel('x-axis')\n",
        "\n",
        "  plt.ylabel('y-axis')\n",
        "  plt.title('Quadratic Function')"
      ],
      "metadata": {
        "id": "MtefLrFbcdLi"
      },
      "execution_count": 121,
      "outputs": []
    },
    {
      "cell_type": "code",
      "source": [
        "x = [item for item in range(-10, 10)]\n",
        "y = [quad(item, 1, 2, 1) for item in x]\n",
        "draw_plot(x, y)\n",
        "print(x)\n",
        "print(y)"
      ],
      "metadata": {
        "colab": {
          "base_uri": "https://localhost:8080/",
          "height": 329
        },
        "id": "Ps_TunzDZvoQ",
        "outputId": "540fcb8d-a3fe-44fe-ecbc-a7d3695754e8"
      },
      "execution_count": 122,
      "outputs": [
        {
          "output_type": "stream",
          "name": "stdout",
          "text": [
            "[-10, -9, -8, -7, -6, -5, -4, -3, -2, -1, 0, 1, 2, 3, 4, 5, 6, 7, 8, 9]\n",
            "[81, 64, 49, 36, 25, 16, 9, 4, 1, 0, 1, 4, 9, 16, 25, 36, 49, 64, 81, 100]\n"
          ]
        },
        {
          "output_type": "display_data",
          "data": {
            "text/plain": [
              "<Figure size 432x288 with 1 Axes>"
            ],
            "image/png": "[encoded data removed]"
          },
          "metadata": {
            "needs_background": "light"
          }
        }
      ]
    }
  ]
}