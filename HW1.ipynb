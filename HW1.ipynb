{
  "nbformat": 4,
  "nbformat_minor": 0,
  "metadata": {
    "colab": {
      "name": "Untitled0.ipynb",
      "provenance": [],
      "authorship_tag": "ABX9TyPyhaO8Up3twRkkzm8pUgQf",
      "include_colab_link": true
    },
    "kernelspec": {
      "name": "python3",
      "display_name": "Python 3"
    },
    "language_info": {
      "name": "python"
    }
  },
  "cells": [
    {
      "cell_type": "markdown",
      "metadata": {
        "id": "view-in-github",
        "colab_type": "text"
      },
      "source": [
        "<a href=\"https://colab.research.google.com/github/himalayahall/cuny-bridge-math/blob/main/HW1.ipynb\" target=\"_parent\"><img src=\"https://colab.research.google.com/assets/colab-badge.svg\" alt=\"Open In Colab\"/></a>"
      ]
    },
    {
      "cell_type": "code",
      "execution_count": null,
      "metadata": {
        "id": "G3o5edf_POuf"
      },
      "outputs": [],
      "source": [
        "\"\"\"\n",
        "Chapter 1 Problem #1: Even-Odd Vending Machine\n",
        "Try writing an “even-odd vending machine,” which will take a number as input\n",
        "and do two things\n",
        "1. Print whether the number is even or odd.\n",
        "2. Display the number followed by the next 9 even or odd numbers.\n",
        "If the input is 2, the program should print even and then print 2, 4, 6, 8, 10,\n",
        " 12, 14, 16, 18, 20. Similarly, if the input is 1, the program should print odd\n",
        "and then print 1, 3, 5, 7, 9, 11, 13, 15, 17, 19. Your program should use the\n",
        "is_integer() method to display an error message if the input is a number with\n",
        "significant digits beyond the decimal point.\n",
        "Doing Math with Python by Amit Saha\n",
        "\n",
        "\"\"\""
      ]
    },
    {
      "cell_type": "code",
      "source": [
        "def evenodd(num) :\n",
        "  if (isinstance(num, int) == False):\n",
        "    if (isinstance(num, float) == False or num.is_integer() == False):\n",
        "      raise Exception(\"Invalid argument (must be integer): \" + num)\n",
        "\n",
        "  if (num % 2 == 0):\n",
        "    print (str(num) + \" is even\")\n",
        "  else:\n",
        "    print (str(num) + \" is odd\")\n",
        "\n",
        "  for i in range(0, 10):\n",
        "    print(num + i * 2)\n",
        "  "
      ],
      "metadata": {
        "id": "o8lc1LbtPws2"
      },
      "execution_count": 36,
      "outputs": []
    },
    {
      "cell_type": "code",
      "source": [
        "evenodd(2)"
      ],
      "metadata": {
        "colab": {
          "base_uri": "https://localhost:8080/"
        },
        "id": "szfbqxa8UHcT",
        "outputId": "e7354945-b8cc-4a0d-8a06-507336f6260e"
      },
      "execution_count": 38,
      "outputs": [
        {
          "output_type": "stream",
          "name": "stdout",
          "text": [
            "2 is even\n",
            "2\n",
            "4\n",
            "6\n",
            "8\n",
            "10\n",
            "12\n",
            "14\n",
            "16\n",
            "18\n",
            "20\n"
          ]
        }
      ]
    }
  ]
}