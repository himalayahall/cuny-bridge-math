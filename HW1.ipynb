{
  "nbformat": 4,
  "nbformat_minor": 0,
  "metadata": {
    "colab": {
      "name": "Copy of Untitled0.ipynb",
      "provenance": [],
      "collapsed_sections": [],
      "authorship_tag": "ABX9TyNcK9lxSkwpKeqMAyTp8HdM",
      "include_colab_link": true
    },
    "kernelspec": {
      "name": "python3",
      "display_name": "Python 3"
    },
    "language_info": {
      "name": "python"
    }
  },
  "cells": [
    {
      "cell_type": "markdown",
      "metadata": {
        "id": "view-in-github",
        "colab_type": "text"
      },
      "source": [
        "<a href=\"https://colab.research.google.com/github/himalayahall/cuny-bridge-math/blob/main/HW1.ipynb\" target=\"_parent\"><img src=\"https://colab.research.google.com/assets/colab-badge.svg\" alt=\"Open In Colab\"/></a>"
      ]
    },
    {
      "cell_type": "code",
      "source": [
        "def evenodd(num : int) -> None :\n",
        "  '''\n",
        "    Chapter 1.  Programming Challenge 1 page 22, Even-Odd Vending Machine\n",
        "    Prints whether number is even-odd, then prints next 9 number of the same type.\n",
        "    For example, if input is 1, the output will be:\n",
        "      1 is odd\n",
        "      1, 3, 5, 7, 9, 11, 13, 15, 17, 19\n",
        "    if input is 2, the output will be:\n",
        "      2 is even\n",
        "      2, 4, 6, 8, 10, 12, 14, 16, 18, 20   \n",
        "    Params:\n",
        "      num : whole number\n",
        "    Exceptions:\n",
        "      Raises exception if input is non-numeric or is not a whole number (has significant digits to right of decimal)\n",
        "  '''\n",
        "  if (isinstance(num, int) == False):\n",
        "    if (isinstance(num, float) == False or num.is_integer() == False):\n",
        "      raise Exception(\"Invalid argument (must be integer): {}\".format(num))\n",
        "\n",
        "  if (num % 2 == 0):\n",
        "    print (\"{0} is even\".format(num))\n",
        "  else:\n",
        "    print (\"{0} is odd\".format(num))\n",
        "\n",
        "  for i in range(0, 10):\n",
        "    print(num + i * 2)\n",
        "  "
      ],
      "metadata": {
        "id": "o8lc1LbtPws2"
      },
      "execution_count": 17,
      "outputs": []
    },
    {
      "cell_type": "code",
      "source": [
        "# Test evenodd\n",
        "evenodd(2)\n",
        "evenodd(1)"
      ],
      "metadata": {
        "id": "szfbqxa8UHcT",
        "colab": {
          "base_uri": "https://localhost:8080/"
        },
        "outputId": "dbf0bb83-77c6-455b-a447-b26a40758acc"
      },
      "execution_count": 18,
      "outputs": [
        {
          "output_type": "stream",
          "name": "stdout",
          "text": [
            "2 is even\n",
            "2\n",
            "4\n",
            "6\n",
            "8\n",
            "10\n",
            "12\n",
            "14\n",
            "16\n",
            "18\n",
            "20\n",
            "1 is odd\n",
            "1\n",
            "3\n",
            "5\n",
            "7\n",
            "9\n",
            "11\n",
            "13\n",
            "15\n",
            "17\n",
            "19\n"
          ]
        }
      ]
    },
    {
      "cell_type": "code",
      "source": [
        "'''\n",
        "Exploring a Quadratic Function Visually\n",
        "'''\n",
        "\n",
        "import matplotlib.pyplot as plt\n",
        "from typing import List, Set, Dict, Tuple, Optional\n",
        "\n",
        "def draw_plot(x :  List[float], y : List[float]) -> None:\n",
        "  '''\n",
        "  Draws plot.\n",
        "  Params:\n",
        "    x : x values\n",
        "    y : y values\n",
        "  '''    \n",
        "  plt.plot(x, y, marker='o')\n",
        "  plt.xlabel('x-axis')\n",
        "\n",
        "  plt.ylabel('y-axis')\n",
        "  plt.title('Quadratic Function')\n",
        "\n",
        "def quad(x : float, a : float, b : float, c : float) -> float:\n",
        "  '''\n",
        "  Chapter 2.  Programming Challenge 2 page 55, Exploring a Quadratic Function Visually\n",
        "  Quadratic function: a(x*x)+(b*x)+c\n",
        "  Params:\n",
        "    x : x value\n",
        "    a : a value, cannot be 0.\n",
        "    b : b value\n",
        "    c : constant value\n",
        "  Returns: a*sqr(x)+b*x+c\n",
        "  '''\n",
        "  if (a == 0):\n",
        "    raise Exception(\"Invalid argument (a cannot be 0)\")\n",
        "  return (a * pow(x, 2)) + (b * x) + c\n",
        "\n",
        "# Test quadratic function\n",
        "x = [item for item in range(-10, 10)]\n",
        "y = [quad(item, 1, 2, 1) for item in x]\n",
        "draw_plot(x, y)\n",
        "#print(x)\n",
        "#print(y)"
      ],
      "metadata": {
        "id": "QabnWA43Y-Rk",
        "colab": {
          "base_uri": "https://localhost:8080/",
          "height": 295
        },
        "outputId": "1d529c5e-d466-46f6-cef9-d7151ebc838a"
      },
      "execution_count": 19,
      "outputs": [
        {
          "output_type": "display_data",
          "data": {
            "text/plain": [
              "<Figure size 432x288 with 1 Axes>"
            ],
            "image/png": "[encoded data removed]"
          },
          "metadata": {
            "needs_background": "light"
          }
        }
      ]
    },
    {
      "cell_type": "code",
      "source": [
        "'''\n",
        "Statistics Calculator\n",
        "'''\n",
        "import csv\n",
        "from collections import Counter\n",
        "def read_csv(filename : str) -> List[float]:\n",
        "  with open(filename) as f:\n",
        "    reader = csv.reader(f)\n",
        "\n",
        "    'Skip header row'\n",
        "    next(reader)\n",
        "    data = []\n",
        "    for row in reader:\n",
        "      data.append(float(row[0]))\n",
        "  return data\n",
        "\n",
        "def calc_mean(numbers: List[float]) -> float:\n",
        "  return sum(numbers) / len(numbers)\n",
        "\n",
        "def calc_median(numbers: List[float]) -> float:\n",
        "  numbers.sort()\n",
        "\n",
        "  mids = []\n",
        "  N = len(numbers)\n",
        "  if (N % 2 == 1):\n",
        "      mid_index = int((N + 1) / 2) - 1\n",
        "      mids.append(numbers[mid_index])\n",
        "  else:\n",
        "      mid_index = int(N / 2) - 1\n",
        "      mids.append(numbers[mid_index])\n",
        "      mids.append(numbers[mid_index + 1] )\n",
        "  \n",
        "  return sum(mids) / len(mids)\n",
        "\n",
        "def calc_mode(numbers: List[float]) -> float:\n",
        "  counter = Counter(numbers)\n",
        "  mode = counter.most_common(1)\n",
        "  return mode[0][0]\n",
        "\n",
        "def find_range(numbers: List[float]) -> List[float]:\n",
        "  low = min(numbers)\n",
        "  high = max(numbers)\n",
        "  return low, high, high - low\n",
        "\n",
        "def find_differences_from_mean(numbers: List[float]) -> List[float]:\n",
        "  mean = calc_mean(numbers)\n",
        "  diffs = [item - mean for item in numbers]\n",
        "  return diffs\n",
        "\n",
        "def calc_variance(numbers: List[float]) -> float:\n",
        "  diffs = find_differences_from_mean(numbers)\n",
        "  squared = [item ** 2 for item in diffs]\n",
        "  return sum(squared) / len(numbers)\n",
        "\n",
        "def stats_calculator() -> None:\n",
        "  filename = input(\"Please enter CSV file name: \")\n",
        "  numbers = read_csv(filename)\n",
        "  \n",
        "  mean = sum(numbers) / len(numbers)\n",
        "  mode = calc_median(numbers)\n",
        "  range = find_range(numbers)\n",
        "  var = calc_variance(numbers)\n",
        "  std = var ** 0.5\n",
        "\n",
        "\n",
        "even_count_numbers = [100, 60, 70, 900, 100, 200, 500, 500, 503, 600, 1000, 1200]\n",
        "print(\"Mean: {0}, Median: {1}, Mode: {2}, Range: {3}\".format(calc_mean(even_count_numbers), calc_median(even_count_numbers), calc_mode(even_count_numbers), find_range(even_count_numbers)))\n",
        "\n",
        "odd_count_numbers = [100, 60, 70, 900, 100, 200, 500, 500, 503, 600, 1000, 1200, 800]\n",
        "print(\"Mean: {0}, Median: {1}, Mode: {2}\".format(calc_mean(odd_count_numbers), calc_median(odd_count_numbers),calc_mode(odd_count_numbers)))\n",
        "\n",
        "mode_numbers = [100, 60, 70, 900, 100, 200, 500, 500, 503, 600, 1000, 1200]\n",
        "print(\"Mean: {0}, Median: {1}, Mode: {2}, Variance: {3}\".format(calc_mean(mode_numbers), calc_median(mode_numbers),calc_mode(mode_numbers), calc_variance(mode_numbers)))\n",
        "\n"
      ],
      "metadata": {
        "colab": {
          "base_uri": "https://localhost:8080/"
        },
        "id": "Ps_TunzDZvoQ",
        "outputId": "6397f6c7-838c-4db8-d021-0935d8fb1a17"
      },
      "execution_count": 20,
      "outputs": [
        {
          "output_type": "stream",
          "name": "stdout",
          "text": [
            "Mean: 477.75, Median: 500.0, Mode: 100, Range: (60, 1200, 1140)\n",
            "Mean: 502.53846153846155, Median: 500.0, Mode: 100\n",
            "Mean: 477.75, Median: 500.0, Mode: 100, Variance: 141047.35416666666\n"
          ]
        }
      ]
    },
    {
      "cell_type": "code",
      "source": [
        "from sympy import Symbol\n",
        "from sympy import factor\n",
        "x = Symbol('x')\n",
        "y = Symbol('y')\n",
        "\n",
        "p = x**3 + 3*x**2*y + 3*x*y**2 + y**3\n",
        "facts = factor(p)\n",
        "print(facts)\n",
        "facts.expand()"
      ],
      "metadata": {
        "colab": {
          "base_uri": "https://localhost:8080/",
          "height": 55
        },
        "id": "qq00jxIMG4bU",
        "outputId": "f5ce369b-a789-42fa-b554-e8ff9fdbc5f8"
      },
      "execution_count": 35,
      "outputs": [
        {
          "output_type": "stream",
          "name": "stdout",
          "text": [
            "(x + y)**3\n"
          ]
        },
        {
          "output_type": "execute_result",
          "data": {
            "text/plain": [
              "x**3 + 3*x**2*y + 3*x*y**2 + y**3"
            ],
            "text/latex": "$\\displaystyle x^{3} + 3 x^{2} y + 3 x y^{2} + y^{3}$"
          },
          "metadata": {},
          "execution_count": 35
        }
      ]
    },
    {
      "cell_type": "code",
      "source": [
        "from sympy import Symbol, pprint, init_printing\n",
        "def print_series(n: int, x_value: float) -> None:\n",
        "  init_printing(order='rev-lex')\n",
        "  x = Symbol('x')\n",
        "  series = x\n",
        "  for i in range(2, n + 1):\n",
        "    series = series + (x**i) / i\n",
        "  pprint(series)\n",
        "  series_value = series.subs({x:x_value})\n",
        "  print('Value of the series at {0}: {1}'.format(x_value, series_value))\n",
        "\n",
        "print_series(10, 2)"
      ],
      "metadata": {
        "colab": {
          "base_uri": "https://localhost:8080/"
        },
        "id": "Jn5QpJUgI3XB",
        "outputId": "9820c5d1-e110-4a5e-96ed-37d20168a5b9"
      },
      "execution_count": 36,
      "outputs": [
        {
          "output_type": "stream",
          "name": "stdout",
          "text": [
            "     2    3    4    5    6    7    8    9    10\n",
            "    x    x    x    x    x    x    x    x    x  \n",
            "x + ── + ── + ── + ── + ── + ── + ── + ── + ───\n",
            "    2    3    4    5    6    7    8    9     10\n",
            "Value of the series at 2: 74752/315\n"
          ]
        }
      ]
    },
    {
      "cell_type": "code",
      "source": [
        "'''\n",
        "from sympy import solve\n",
        "x = Symbol('x')\n",
        "expr = x - 5 - 7\n",
        "solve(expr)\n",
        "\n",
        "expr = x**2 + 5*x + 4\n",
        "solve(expr, dict=True)\n",
        "'''"
      ],
      "metadata": {
        "colab": {
          "base_uri": "https://localhost:8080/",
          "height": 37
        },
        "id": "lH5LnHNvLvlY",
        "outputId": "93943f8a-9ec4-49a6-cb73-9e34ef747e17"
      },
      "execution_count": 23,
      "outputs": [
        {
          "output_type": "execute_result",
          "data": {
            "text/plain": [
              "\"\\nfrom sympy import solve\\nx = Symbol('x')\\nexpr = x - 5 - 7\\nsolve(expr)\\n\\nexpr = x**2 + 5*x + 4\\nsolve(expr, dict=True)\\n\""
            ],
            "application/vnd.google.colaboratory.intrinsic+json": {
              "type": "string"
            }
          },
          "metadata": {},
          "execution_count": 23
        }
      ]
    },
    {
      "cell_type": "code",
      "source": [
        "from sympy.plotting import plot\n",
        "from sympy import Symbol\n",
        "x = Symbol('x')\n",
        "plot(x**2)"
      ],
      "metadata": {
        "colab": {
          "base_uri": "https://localhost:8080/",
          "height": 313
        },
        "id": "3i6nBE6RN_Vq",
        "outputId": "c0fd5c58-56b1-4b14-98af-c8b4019c8aa8"
      },
      "execution_count": 37,
      "outputs": [
        {
          "output_type": "display_data",
          "data": {
            "text/plain": [
              "<Figure size 432x288 with 1 Axes>"
            ],
            "image/png": "[encoded data removed]"
          },
          "metadata": {
            "needs_background": "light"
          }
        },
        {
          "output_type": "execute_result",
          "data": {
            "text/plain": [
              "<sympy.plotting.plot.Plot at 0x7f8c1c5e8810>"
            ]
          },
          "metadata": {},
          "execution_count": 37
        }
      ]
    },
    {
      "cell_type": "code",
      "source": [
        "from sympy import Poly, Symbol, solve_poly_inequality, sympify\n",
        "\n",
        "def solve_single_var_inequality(var_symbol: str, ineq : str):\n",
        "  '''\n",
        "  Solving Single-Variable Inequalities.\n",
        "  Params:\n",
        "    var_symbol: variable symbol in inequality\n",
        "    ineq: inequality expression\n",
        "  '''\n",
        "  \n",
        "  ineq_expr = sympify(ineq)\n",
        "\n",
        "  lhs = ineq_expr.lhs\n",
        "  if (lhs.is_polynomial() == False):\n",
        "    raise Exception('lhs is not a polynomial: {0}'.format(lhs))\n",
        "\n",
        "  symbol = Symbol(var_symbol)\n",
        "  poly = Poly(lhs, symbol)\n",
        "  rel = ineq_expr.rel_op\n",
        "  return solve_poly_inequality(poly, rel)\n",
        "\n",
        "solve_single_var_inequality('x', '-x**2 + 4 < 0')\n",
        "#"
      ],
      "metadata": {
        "colab": {
          "base_uri": "https://localhost:8080/"
        },
        "id": "rB2TwdStKAuZ",
        "outputId": "fcd95a3d-5625-4d44-b502-690036a3388b"
      },
      "execution_count": 25,
      "outputs": [
        {
          "output_type": "execute_result",
          "data": {
            "text/plain": [
              "[Interval.open(-oo, -2), Interval.open(2, oo)]"
            ]
          },
          "metadata": {},
          "execution_count": 25
        }
      ]
    }
  ]
}