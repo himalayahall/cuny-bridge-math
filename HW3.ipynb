{
  "nbformat": 4,
  "nbformat_minor": 0,
  "metadata": {
    "colab": {
      "name": "Untitled2.ipynb",
      "provenance": [],
      "authorship_tag": "ABX9TyMePyBauYp/s5vYcRzb3lRI",
      "include_colab_link": true
    },
    "kernelspec": {
      "name": "python3",
      "display_name": "Python 3"
    },
    "language_info": {
      "name": "python"
    }
  },
  "cells": [
    {
      "cell_type": "markdown",
      "metadata": {
        "id": "view-in-github",
        "colab_type": "text"
      },
      "source": [
        "<a href=\"https://colab.research.google.com/github/himalayahall/cuny-bridge-math/blob/main/HW3.ipynb\" target=\"_parent\"><img src=\"https://colab.research.google.com/assets/colab-badge.svg\" alt=\"Open In Colab\"/></a>"
      ]
    },
    {
      "cell_type": "code",
      "execution_count": 6,
      "metadata": {
        "id": "4rbnYWXQXyNb"
      },
      "outputs": [],
      "source": [
        "import pandas as pd\n",
        "import numpy as np\n",
        "import matplotlib as mplot\n",
        "from scipy.stats import norm"
      ]
    },
    {
      "cell_type": "markdown",
      "source": [
        "Problem 1: The weights of steers in a herd are distributed normally.  The variance is 40,000 and the mean steer weight is 1300 lbs.  \n",
        "Find the probability that the weight of a randomly selected steer is greater than 979 lbs. (Round your answer to 4 decimal places)\n",
        "\n",
        "Normal distributions can be transformed to standard normal distributions by the formula:\n",
        "\n",
        "$Z = \\frac{(X - μ)}λ$\n",
        "\n",
        "$Z = \\frac{(979 - 1300)}λ$\n",
        "\n",
        "$Z = \\frac{(979 - 1300)}{\\sqrt{40000}}$"
      ],
      "metadata": {
        "id": "9c8gFTicaNBq"
      }
    },
    {
      "cell_type": "code",
      "source": [
        "1-norm.cdf(979, loc=1300, scale=200)\n"
      ],
      "metadata": {
        "colab": {
          "base_uri": "https://localhost:8080/"
        },
        "id": "2s2r6NOwbxkN",
        "outputId": "83b2592d-5821-4939-af24-273e1006f9f7"
      },
      "execution_count": 13,
      "outputs": [
        {
          "output_type": "execute_result",
          "data": {
            "text/plain": [
              "0.9457530976640897"
            ]
          },
          "metadata": {},
          "execution_count": 13
        }
      ]
    },
    {
      "cell_type": "code",
      "source": [
        "from scipy.stats import norm\n",
        "\n"
      ],
      "metadata": {
        "id": "Bk0PYucGhsRY"
      },
      "execution_count": null,
      "outputs": []
    }
  ]
}