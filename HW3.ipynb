{
  "nbformat": 4,
  "nbformat_minor": 0,
  "metadata": {
    "colab": {
      "name": "Untitled2.ipynb",
      "provenance": [],
      "authorship_tag": "ABX9TyMf7it+l4ntzpfa6ycAJwWF",
      "include_colab_link": true
    },
    "kernelspec": {
      "name": "python3",
      "display_name": "Python 3"
    },
    "language_info": {
      "name": "python"
    }
  },
  "cells": [
    {
      "cell_type": "markdown",
      "metadata": {
        "id": "view-in-github",
        "colab_type": "text"
      },
      "source": [
        "<a href=\"https://colab.research.google.com/github/himalayahall/cuny-bridge-math/blob/main/HW3.ipynb\" target=\"_parent\"><img src=\"https://colab.research.google.com/assets/colab-badge.svg\" alt=\"Open In Colab\"/></a>"
      ]
    },
    {
      "cell_type": "code",
      "execution_count": 1,
      "metadata": {
        "id": "4rbnYWXQXyNb"
      },
      "outputs": [],
      "source": [
        "import pandas as pd\n",
        "import numpy as np\n",
        "import matplotlib as mplot\n",
        "import sympy"
      ]
    },
    {
      "cell_type": "markdown",
      "source": [
        "Problem 1: The weights of steers in a herd are distributed normally.  The variance is 40,000 and the mean steer weight is 1300 lbs.  \n",
        "Find the probability that the weight of a randomly selected steer is greater than 979 lbs. (Round your answer to 4 decimal places)\n",
        "\n",
        "Normal distributions can be transformed to standard normal distributions by the formula:\n",
        "\n",
        "$Z = \\frac{(X - μ)}λ$\n",
        "\n",
        "$Z = \\frac{(979 - 1300)}λ$\n",
        "\n",
        "$Z = \\frac{(979 - 1300)}{\\sqrt{40000}}$"
      ],
      "metadata": {
        "id": "9c8gFTicaNBq"
      }
    },
    {
      "cell_type": "code",
      "source": [
        "Z = (979-1300)/40000**0.5\n",
        "Z\n"
      ],
      "metadata": {
        "colab": {
          "base_uri": "https://localhost:8080/"
        },
        "id": "2s2r6NOwbxkN",
        "outputId": "63e2d350-f537-46e6-cc02-857ad3c7b8bf"
      },
      "execution_count": 12,
      "outputs": [
        {
          "output_type": "execute_result",
          "data": {
            "text/plain": [
              "-1.605"
            ]
          },
          "metadata": {},
          "execution_count": 12
        }
      ]
    },
    {
      "cell_type": "code",
      "source": [
        "from scipy.stats import norm\n",
        "\n"
      ],
      "metadata": {
        "id": "Bk0PYucGhsRY"
      },
      "execution_count": 16,
      "outputs": []
    }
  ]
}