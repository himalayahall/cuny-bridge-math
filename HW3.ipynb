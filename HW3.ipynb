{
  "nbformat": 4,
  "nbformat_minor": 0,
  "metadata": {
    "colab": {
      "name": "Untitled2.ipynb",
      "provenance": [],
      "authorship_tag": "ABX9TyOcKHXlr+xK4CFk+Y+H0Ns9",
      "include_colab_link": true
    },
    "kernelspec": {
      "name": "python3",
      "display_name": "Python 3"
    },
    "language_info": {
      "name": "python"
    }
  },
  "cells": [
    {
      "cell_type": "markdown",
      "metadata": {
        "id": "view-in-github",
        "colab_type": "text"
      },
      "source": [
        "<a href=\"https://colab.research.google.com/github/himalayahall/cuny-bridge-math/blob/main/HW3.ipynb\" target=\"_parent\"><img src=\"https://colab.research.google.com/assets/colab-badge.svg\" alt=\"Open In Colab\"/></a>"
      ]
    },
    {
      "cell_type": "code",
      "execution_count": 19,
      "metadata": {
        "id": "4rbnYWXQXyNb"
      },
      "outputs": [],
      "source": [
        "import pandas as pd\n",
        "import numpy as np\n",
        "import matplotlib as mplot\n",
        "from scipy.stats import norm\n"
      ]
    },
    {
      "cell_type": "code",
      "source": [
        "# loc keyword specifies the mean, scale keywork specifies the standard deviation\n",
        "sd = np.sqrt(40000)\n",
        "round(norm.sf(979, loc=1300, scale=sd), 4)\n"
      ],
      "metadata": {
        "colab": {
          "base_uri": "https://localhost:8080/"
        },
        "id": "2s2r6NOwbxkN",
        "outputId": "c7fbd118-1a02-4f7b-b29f-c00c0e75e166"
      },
      "execution_count": 3,
      "outputs": [
        {
          "output_type": "execute_result",
          "data": {
            "text/plain": [
              "0.9458"
            ]
          },
          "metadata": {},
          "execution_count": 3
        }
      ]
    },
    {
      "cell_type": "markdown",
      "source": [
        "Problem 2"
      ],
      "metadata": {
        "id": "OcGl63022ZNx"
      }
    },
    {
      "cell_type": "code",
      "source": [
        "sd = np.sqrt(1960000)\n",
        "round(norm.sf(8340, loc=11000, scale=sd), 4)\n",
        "\n"
      ],
      "metadata": {
        "id": "Bk0PYucGhsRY",
        "outputId": "ee4bbdc8-10c5-4663-b838-0b4a797346cd",
        "colab": {
          "base_uri": "https://localhost:8080/"
        }
      },
      "execution_count": 4,
      "outputs": [
        {
          "output_type": "execute_result",
          "data": {
            "text/plain": [
              "0.9713"
            ]
          },
          "metadata": {},
          "execution_count": 4
        }
      ]
    },
    {
      "cell_type": "markdown",
      "source": [
        "Problem 3"
      ],
      "metadata": {
        "id": "d35BlDjJ2dkE"
      }
    },
    {
      "cell_type": "code",
      "source": [
        "round(norm.cdf(85000000, loc=80000000, scale=(3000000)) - norm.cdf(83000000, loc=80000000, scale=(3000000)), 4)"
      ],
      "metadata": {
        "id": "h9QihpQfxh0m",
        "outputId": "439666ff-c6b4-4b70-f47d-47f6436d4d81",
        "colab": {
          "base_uri": "https://localhost:8080/"
        }
      },
      "execution_count": null,
      "outputs": [
        {
          "output_type": "execute_result",
          "data": {
            "text/plain": [
              "0.1109"
            ]
          },
          "metadata": {},
          "execution_count": 28
        }
      ]
    },
    {
      "cell_type": "markdown",
      "source": [
        "Problem 4"
      ],
      "metadata": {
        "id": "p2q2GaOq2hww"
      }
    },
    {
      "cell_type": "code",
      "source": [
        "sd = 123\n",
        "print(round(norm.ppf(1-0.14, loc=456, scale=sd), 0))"
      ],
      "metadata": {
        "id": "Ca-F6eOSxiBD",
        "outputId": "9b256110-3f99-401f-a1a9-4d58885f26cc",
        "colab": {
          "base_uri": "https://localhost:8080/"
        }
      },
      "execution_count": 20,
      "outputs": [
        {
          "output_type": "stream",
          "name": "stdout",
          "text": [
            "589.0\n"
          ]
        }
      ]
    },
    {
      "cell_type": "markdown",
      "source": [
        "Problem 5"
      ],
      "metadata": {
        "id": "DvtYMkui2jeZ"
      }
    },
    {
      "cell_type": "code",
      "source": [
        "round(norm.ppf(1-.07, loc=6.13, scale=.06), 2)"
      ],
      "metadata": {
        "id": "Fi7fJLyYxiHK",
        "outputId": "a45eca10-7630-425c-b8b6-8dcaf880923c",
        "colab": {
          "base_uri": "https://localhost:8080/"
        }
      },
      "execution_count": null,
      "outputs": [
        {
          "output_type": "execute_result",
          "data": {
            "text/plain": [
              "6.22"
            ]
          },
          "metadata": {},
          "execution_count": 35
        }
      ]
    },
    {
      "cell_type": "code",
      "source": [
        "round(norm.ppf(.07, loc=6.13, scale=.06), 2)"
      ],
      "metadata": {
        "id": "e4W1brJmxiK4",
        "outputId": "a16a718b-bc46-4eff-b53f-68e86050752d",
        "colab": {
          "base_uri": "https://localhost:8080/"
        }
      },
      "execution_count": null,
      "outputs": [
        {
          "output_type": "execute_result",
          "data": {
            "text/plain": [
              "6.04"
            ]
          },
          "metadata": {},
          "execution_count": 36
        }
      ]
    },
    {
      "cell_type": "markdown",
      "source": [
        "Problem 6"
      ],
      "metadata": {
        "id": "tdbXxXdj2njG"
      }
    },
    {
      "cell_type": "code",
      "source": [
        "round(norm.ppf(.2, loc=78.8, scale=9.8), 0)"
      ],
      "metadata": {
        "id": "yDEaklvcxiOS",
        "outputId": "c965a044-62a8-4ac3-f590-c7eaa3d652d2",
        "colab": {
          "base_uri": "https://localhost:8080/"
        }
      },
      "execution_count": null,
      "outputs": [
        {
          "output_type": "execute_result",
          "data": {
            "text/plain": [
              "71.0"
            ]
          },
          "metadata": {},
          "execution_count": 38
        }
      ]
    },
    {
      "cell_type": "code",
      "source": [
        "round(norm.ppf(1-.45, loc=78.8, scale=9.8), 0)"
      ],
      "metadata": {
        "id": "iFYvpqgNxiRp",
        "outputId": "6fcf4c30-f484-4c09-e841-0b3b5b873284",
        "colab": {
          "base_uri": "https://localhost:8080/"
        }
      },
      "execution_count": null,
      "outputs": [
        {
          "output_type": "execute_result",
          "data": {
            "text/plain": [
              "80.0"
            ]
          },
          "metadata": {},
          "execution_count": 40
        }
      ]
    },
    {
      "cell_type": "markdown",
      "source": [
        "Problem 7"
      ],
      "metadata": {
        "id": "g5eKA6XF27qC"
      }
    },
    {
      "cell_type": "code",
      "source": [
        "round(norm.ppf(1-.45, loc=21.2, scale=5.4), 1)"
      ],
      "metadata": {
        "id": "9Ah3Dq6O231i",
        "outputId": "0f4b2100-bb93-4a8b-d71f-737a71aa6428",
        "colab": {
          "base_uri": "https://localhost:8080/"
        }
      },
      "execution_count": null,
      "outputs": [
        {
          "output_type": "execute_result",
          "data": {
            "text/plain": [
              "21.9"
            ]
          },
          "metadata": {},
          "execution_count": 41
        }
      ]
    },
    {
      "cell_type": "markdown",
      "source": [
        "Problem 8"
      ],
      "metadata": {
        "id": "QxZQ9Rs63IsS"
      }
    },
    {
      "cell_type": "code",
      "source": [
        "round(norm.cdf(11, loc=(151*.09), scale=np.sqrt(151*.09*(1-.09))), 4)"
      ],
      "metadata": {
        "id": "gawmwA8b3Fwm",
        "outputId": "7d3b363d-8d9e-4497-cb52-692b0194c571",
        "colab": {
          "base_uri": "https://localhost:8080/"
        }
      },
      "execution_count": null,
      "outputs": [
        {
          "output_type": "execute_result",
          "data": {
            "text/plain": [
              "0.2307"
            ]
          },
          "metadata": {},
          "execution_count": 45
        }
      ]
    },
    {
      "cell_type": "markdown",
      "source": [
        "Problem 9"
      ],
      "metadata": {
        "id": "qJGyq88h3o4J"
      }
    },
    {
      "cell_type": "code",
      "source": [
        "# scipy.stats.norm methods\n",
        "\n",
        "# sf and cdf are cumilative (equal to pnorm on RPubs)\n",
        "# ppf is percent point function (equal to 1- qnorm on RPubs"
      ],
      "metadata": {
        "id": "9MqXG37l3WiR"
      },
      "execution_count": null,
      "outputs": []
    },
    {
      "cell_type": "code",
      "source": [
        "sd = 7 / np.sqrt(147)\n",
        "round(norm.sf(48.83, loc=48, scale=sd), 4)"
      ],
      "metadata": {
        "id": "8c9WCyIvFNep",
        "outputId": "304ee8e0-b993-4900-99d5-deee3a22c62f",
        "colab": {
          "base_uri": "https://localhost:8080/"
        }
      },
      "execution_count": 25,
      "outputs": [
        {
          "output_type": "execute_result",
          "data": {
            "text/plain": [
              "0.0753"
            ]
          },
          "metadata": {},
          "execution_count": 25
        }
      ]
    },
    {
      "cell_type": "markdown",
      "source": [
        "Problem 10"
      ],
      "metadata": {
        "id": "ZTRasv5o7Bv_"
      }
    },
    {
      "cell_type": "code",
      "source": [
        "sd = 10 / np.sqrt(68)\n",
        "round(norm.sf(93.54, loc=91, scale=sd), 4)"
      ],
      "metadata": {
        "id": "SYcV7VKC7EN_",
        "outputId": "6ef5b70f-db79-450f-d14b-c5c6f72b97a4",
        "colab": {
          "base_uri": "https://localhost:8080/"
        }
      },
      "execution_count": 26,
      "outputs": [
        {
          "output_type": "execute_result",
          "data": {
            "text/plain": [
              "0.0181"
            ]
          },
          "metadata": {},
          "execution_count": 26
        }
      ]
    },
    {
      "cell_type": "markdown",
      "source": [
        "Problem 11"
      ],
      "metadata": {
        "id": "DuoZERRv7x29"
      }
    },
    {
      "cell_type": "code",
      "source": [
        ""
      ],
      "metadata": {
        "id": "n_KgalqS7zsN"
      },
      "execution_count": null,
      "outputs": []
    }
  ]
}